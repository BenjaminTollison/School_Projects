{
 "cells": [
  {
   "cell_type": "code",
   "execution_count": 1,
   "metadata": {},
   "outputs": [],
   "source": [
    "import sympy as sp\n",
    "from IPython.display import display, Math, Latex\n",
    "from sympy.solvers.solveset import linsolve\n",
    "from sympy import  lambdify, Matrix \n",
    "import numpy as np\n",
    "import matplotlib.pyplot as plt\n",
    "def displayEquations(LHS,RHS):\n",
    "    left = sp.latex(LHS)\n",
    "    right = sp.latex(RHS)\n",
    "    display(Math(left + '=' + right))"
   ]
  },
  {
   "cell_type": "code",
   "execution_count": 2,
   "metadata": {},
   "outputs": [
    {
     "data": {
      "text/latex": [
       "$\\displaystyle \\mathtt{\\text{VAS}}=c x \\left(- 2 L + x\\right)$"
      ],
      "text/plain": [
       "<IPython.core.display.Math object>"
      ]
     },
     "metadata": {},
     "output_type": "display_data"
    }
   ],
   "source": [
    "#### Problem 5 ####\n",
    "a,b,c,d,e,f,g,h,x,L,r,r1,r2,a_0 = sp.symbols('a,b,c,d,e,f,g,h,x,L,r,r1,r2,a_0')\n",
    "    # a\n",
    "# 7\n",
    "v_as = a + b*x + c*x**2\n",
    "kbc1 = v_as.subs({x:0})\n",
    "kbc2 = v_as.diff(x).subs({x:L})\n",
    "dof = linsolve([kbc1,kbc2],[a,b])\n",
    "(a_sol,b_sol) = next(iter(dof))\n",
    "v_VAS = v_as.subs({a:a_sol, b:b_sol})\n",
    "displayEquations('VAS',v_VAS.simplify())"
   ]
  },
  {
   "cell_type": "code",
   "execution_count": 3,
   "metadata": {},
   "outputs": [
    {
     "data": {
      "text/latex": [
       "$\\displaystyle \\mathtt{\\text{VAS}}=c \\left(- L^{2} + x^{2}\\right)$"
      ],
      "text/plain": [
       "<IPython.core.display.Math object>"
      ]
     },
     "metadata": {},
     "output_type": "display_data"
    }
   ],
   "source": [
    "# 9\n",
    "v_as = a + b*x + c*x**2\n",
    "kbc1 = v_as.diff(x).subs({x:0})\n",
    "kbc2 = v_as.subs({x:L})\n",
    "dof = linsolve([kbc1,kbc2],[a,b])\n",
    "(a_sol,b_sol) = next(iter(dof))\n",
    "v_VAS = v_as.subs({a:a_sol, b:b_sol})\n",
    "displayEquations('VAS',v_VAS.simplify())"
   ]
  },
  {
   "cell_type": "code",
   "execution_count": 4,
   "metadata": {},
   "outputs": [
    {
     "data": {
      "text/latex": [
       "$\\displaystyle \\mathtt{\\text{VAS}}=d x^{2} \\left(- L + x\\right)$"
      ],
      "text/plain": [
       "<IPython.core.display.Math object>"
      ]
     },
     "metadata": {},
     "output_type": "display_data"
    }
   ],
   "source": [
    "# 2\n",
    "v_as = a + b*x + c*x**2 + d*x**3\n",
    "kbc1 = v_as.subs({x:0})\n",
    "kbc2 = v_as.diff(x).subs({x:0})\n",
    "kbc3 = v_as.subs({x:L})\n",
    "dof = linsolve([kbc1,kbc2,kbc3],[a,b,c])\n",
    "(a_sol,b_sol,c_sol) = next(iter(dof))\n",
    "v_VAS = v_as.subs({a:a_sol, b:b_sol,c:c_sol})\n",
    "displayEquations('VAS',v_VAS.simplify())"
   ]
  },
  {
   "cell_type": "code",
   "execution_count": 5,
   "metadata": {},
   "outputs": [
    {
     "data": {
      "text/latex": [
       "$\\displaystyle \\mathtt{\\text{VAS}}=\\frac{x \\left(- L + x\\right)^{2} \\left(L^{2} e x + r\\right)}{L^{2}}$"
      ],
      "text/plain": [
       "<IPython.core.display.Math object>"
      ]
     },
     "metadata": {},
     "output_type": "display_data"
    }
   ],
   "source": [
    "# 4\n",
    "v_as = a + b*x + c*x**2 + d*x**3 + e*x**4\n",
    "kbc1 = v_as.subs({x:0})\n",
    "kbc2 = v_as.diff(x).subs({x:0}) - r\n",
    "kbc3 = v_as.subs({x:L})\n",
    "kbc4 = v_as.diff(x).subs({x:L})\n",
    "dof = linsolve([kbc1,kbc2,kbc3,kbc4],[a,b,c,d])\n",
    "(a_sol,b_sol,c_sol,d_sol) = next(iter(dof))\n",
    "v_VAS = v_as.subs({a:a_sol, b:b_sol,c:c_sol,d:d_sol})\n",
    "displayEquations('VAS',v_VAS.factor())"
   ]
  },
  {
   "cell_type": "code",
   "execution_count": 6,
   "metadata": {},
   "outputs": [
    {
     "data": {
      "text/latex": [
       "$\\displaystyle \\mathtt{\\text{VAS}}=e x^{4} + \\frac{x^{2} \\left(L^{4} e + 3 a_{0}\\right)}{L^{2}} + \\frac{x^{3} \\left(- 2 L^{4} e - 2 a_{0}\\right)}{L^{3}}$"
      ],
      "text/plain": [
       "<IPython.core.display.Math object>"
      ]
     },
     "metadata": {},
     "output_type": "display_data"
    }
   ],
   "source": [
    "# 6\n",
    "v_as = a + b*x + c*x**2 + d*x**3 + e*x**4\n",
    "kbc1 = v_as.subs({x:0})\n",
    "kbc2 = v_as.diff(x).subs({x:0})\n",
    "kbc3 = v_as.subs({x:L}) - a_0\n",
    "kbc4 = v_as.diff(x).subs({x:L})\n",
    "dof = linsolve([kbc1,kbc2,kbc3,kbc4],[a,b,c,d])\n",
    "(a_sol,b_sol,c_sol,d_sol) = next(iter(dof))\n",
    "v_VAS = v_as.subs({a:a_sol, b:b_sol,c:c_sol,d:d_sol})\n",
    "displayEquations('VAS',v_VAS)"
   ]
  },
  {
   "cell_type": "code",
   "execution_count": 7,
   "metadata": {},
   "outputs": [
    {
     "data": {
      "text/latex": [
       "$\\displaystyle \\mathtt{\\text{VAS}}=\\frac{\\left(- L + x\\right)^{2} \\left(L^{3} e x^{2} + L a_{0} + 2 a_{0} x\\right)}{L^{3}}$"
      ],
      "text/plain": [
       "<IPython.core.display.Math object>"
      ]
     },
     "metadata": {},
     "output_type": "display_data"
    }
   ],
   "source": [
    "# 8\n",
    "v_as = a + b*x + c*x**2 + d*x**3 + e*x**4\n",
    "kbc1 = v_as.subs({x:0}) - a_0\n",
    "kbc2 = v_as.diff(x).subs({x:0})\n",
    "kbc3 = v_as.subs({x:L})\n",
    "kbc4 = v_as.diff(x).subs({x:L})\n",
    "dof = linsolve([kbc1,kbc2,kbc3,kbc4],[a,b,c,d])\n",
    "(a_sol,b_sol,c_sol,d_sol) = next(iter(dof))\n",
    "v_VAS = v_as.subs({a:a_sol, b:b_sol,c:c_sol,d:d_sol})\n",
    "displayEquations('VAS',v_VAS.factor(x))"
   ]
  },
  {
   "cell_type": "code",
   "execution_count": 8,
   "metadata": {},
   "outputs": [
    {
     "data": {
      "text/latex": [
       "$\\displaystyle \\mathtt{\\text{VAS}}=e \\left(L^{2} x^{2} - 2 L x^{3} + x^{4}\\right)$"
      ],
      "text/plain": [
       "<IPython.core.display.Math object>"
      ]
     },
     "metadata": {},
     "output_type": "display_data"
    }
   ],
   "source": [
    "# 10\n",
    "v_as = a + b*x + c*x**2 + d*x**3 + e*x**4\n",
    "kbc1 = v_as.subs({x:0})\n",
    "kbc2 = v_as.diff(x).subs({x:0})\n",
    "kbc3 = v_as.subs({x:L})\n",
    "kbc4 = v_as.diff(x).subs({x:L})\n",
    "dof = linsolve([kbc1,kbc2,kbc3,kbc4],[a,b,c,d])\n",
    "(a_sol,b_sol,c_sol,d_sol) = next(iter(dof))\n",
    "v_VAS = v_as.subs({a:a_sol, b:b_sol,c:c_sol,d:d_sol})\n",
    "displayEquations('VAS',v_VAS.collect(e))"
   ]
  },
  {
   "cell_type": "code",
   "execution_count": 9,
   "metadata": {},
   "outputs": [
    {
     "data": {
      "text/latex": [
       "$\\displaystyle \\mathtt{\\text{VAS}}=c x^{2} + d x^{3}$"
      ],
      "text/plain": [
       "<IPython.core.display.Math object>"
      ]
     },
     "metadata": {},
     "output_type": "display_data"
    }
   ],
   "source": [
    "    # c\n",
    "# 1\n",
    "v_as = a + b*x + c*x**2 + d*x**3\n",
    "kbc1 = v_as.subs({x:0})\n",
    "kbc2 = v_as.diff(x).subs({x:0})\n",
    "dof = linsolve([kbc1,kbc2],[a,b])\n",
    "(a_sol,b_sol) = next(iter(dof))\n",
    "v_VAS = v_as.subs({a:a_sol, b:b_sol})\n",
    "displayEquations('VAS',v_VAS)"
   ]
  },
  {
   "cell_type": "code",
   "execution_count": 10,
   "metadata": {},
   "outputs": [
    {
     "data": {
      "text/latex": [
       "$\\displaystyle \\mathtt{\\text{VAS}}=d x^{3} + e x^{4} + x^{2} \\left(- L^{2} e - L d\\right)$"
      ],
      "text/plain": [
       "<IPython.core.display.Math object>"
      ]
     },
     "metadata": {},
     "output_type": "display_data"
    }
   ],
   "source": [
    "# 2 \n",
    "v_as = a + b*x + c*x**2 + d*x**3 + e*x**4\n",
    "kbc1 = v_as.subs({x:0})\n",
    "kbc2 = v_as.diff(x).subs({x:0})\n",
    "kbc3 = v_as.subs({x:L})\n",
    "dof = linsolve([kbc1,kbc2,kbc3],[a,b,c])\n",
    "(a_sol,b_sol,c_sol) = next(iter(dof))\n",
    "v_VAS = v_as.subs({a:a_sol, b:b_sol,c:c_sol})\n",
    "displayEquations('VAS',v_VAS.collect(e))"
   ]
  },
  {
   "cell_type": "code",
   "execution_count": 11,
   "metadata": {},
   "outputs": [
    {
     "data": {
      "text/latex": [
       "$\\displaystyle \\mathtt{\\text{VAS}}=e x^{4} + f x^{5} + r x + \\frac{x^{2} \\cdot \\left(2 L^{4} f + L^{3} e - 2 r\\right)}{L} + \\frac{x^{3} \\left(- 3 L^{4} f - 2 L^{3} e + r\\right)}{L^{2}}$"
      ],
      "text/plain": [
       "<IPython.core.display.Math object>"
      ]
     },
     "metadata": {},
     "output_type": "display_data"
    }
   ],
   "source": [
    "# 4\n",
    "v_as = a + b*x + c*x**2 + d*x**3 + e*x**4 + f*x**5\n",
    "kbc1 = v_as.subs({x:0})\n",
    "kbc2 = v_as.diff(x).subs({x:0}) - r\n",
    "kbc3 = v_as.subs({x:L})\n",
    "kbc4 = v_as.diff(x).subs({x:L})\n",
    "dof = linsolve([kbc1,kbc2,kbc3,kbc4],[a,b,c,d])\n",
    "(a_sol,b_sol,c_sol,d_sol) = next(iter(dof))\n",
    "v_VAS = v_as.subs({a:a_sol, b:b_sol,c:c_sol,d:d_sol})\n",
    "displayEquations('VAS',v_VAS.collect(e))"
   ]
  },
  {
   "cell_type": "code",
   "execution_count": 12,
   "metadata": {},
   "outputs": [
    {
     "data": {
      "text/latex": [
       "$\\displaystyle \\mathtt{\\text{VAS}}=e x^{4} + f x^{5} + g x^{6} + \\frac{x^{2} \\cdot \\left(3 L^{6} g + 2 L^{5} f + L^{4} e + 3 a_{0}\\right)}{L^{2}} + \\frac{x^{3} \\left(- 4 L^{6} g - 3 L^{5} f - 2 L^{4} e - 2 a_{0}\\right)}{L^{3}}$"
      ],
      "text/plain": [
       "<IPython.core.display.Math object>"
      ]
     },
     "metadata": {},
     "output_type": "display_data"
    }
   ],
   "source": [
    "    # c\n",
    "# 6\n",
    "v_as = a + b*x + c*x**2 + d*x**3 + e*x**4 + f*x**5 + g*x**6\n",
    "kbc1 = v_as.subs({x:0})\n",
    "kbc2 = v_as.diff(x).subs({x:0})\n",
    "kbc3 = v_as.subs({x:L}) - a_0\n",
    "kbc4 = v_as.diff(x).subs({x:L})\n",
    "dof = linsolve([kbc1,kbc2,kbc3,kbc4],[a,b,c,d])\n",
    "(a_sol,b_sol,c_sol,d_sol) = next(iter(dof))\n",
    "v_VAS = v_as.subs({a:a_sol, b:b_sol,c:c_sol,d:d_sol})\n",
    "displayEquations('VAS',v_VAS)"
   ]
  },
  {
   "cell_type": "code",
   "execution_count": 13,
   "metadata": {},
   "outputs": [
    {
     "data": {
      "text/latex": [
       "$\\displaystyle \\mathtt{\\text{VAS}}=- L d x^{2} + a_{0} + d x^{3} - \\frac{a_{0} x^{2}}{L^{2}}$"
      ],
      "text/plain": [
       "<IPython.core.display.Math object>"
      ]
     },
     "metadata": {},
     "output_type": "display_data"
    },
    {
     "data": {
      "text/latex": [
       "$\\displaystyle \\mathtt{\\text{VAS}}=a_{0} + d x^{3} + e x^{4} + \\frac{x^{2} \\left(- L^{4} e - L^{3} d - a_{0}\\right)}{L^{2}}$"
      ],
      "text/plain": [
       "<IPython.core.display.Math object>"
      ]
     },
     "metadata": {},
     "output_type": "display_data"
    }
   ],
   "source": [
    "# 9\n",
    "    # 1 term\n",
    "v_as = a + b*x + c*x**2 + d*x**3\n",
    "kbc1 = v_as.diff(x).subs({x:0})\n",
    "kbc2 = v_as.subs({x:L})\n",
    "kbc3 = v_as.subs({x:0}) - a_0\n",
    "dof = linsolve([kbc1,kbc2,kbc3],[a,b,c])\n",
    "(a_sol,b_sol,c_sol) = next(iter(dof))\n",
    "v_VAS = v_as.subs({a:a_sol, b:b_sol,c:c_sol})\n",
    "displayEquations('VAS',v_VAS.simplify())\n",
    "\n",
    "    # 2 term\n",
    "v_as = a + b*x + c*x**2 + d*x**3 + e*x**4\n",
    "kbc1 = v_as.diff(x).subs({x:0})\n",
    "kbc2 = v_as.subs({x:L})\n",
    "kbc3 = v_as.subs({x:0}) - a_0\n",
    "dof = linsolve([kbc1,kbc2,kbc3],[a,b,c])\n",
    "(a_sol,b_sol,c_sol) = next(iter(dof))\n",
    "v_VAS = v_as.subs({a:a_sol, b:b_sol,c:c_sol})\n",
    "displayEquations('VAS',v_VAS.collect(d).collect(e))"
   ]
  },
  {
   "cell_type": "code",
   "execution_count": 14,
   "metadata": {},
   "outputs": [
    {
     "data": {
      "text/latex": [
       "$\\displaystyle \\mathtt{\\text{Q\\_bc}}=\\left[\\begin{matrix}-500\\\\-250.0\\\\-16875.0\\\\-125000.0\\end{matrix}\\right]$"
      ],
      "text/plain": [
       "<IPython.core.display.Math object>"
      ]
     },
     "metadata": {},
     "output_type": "display_data"
    },
    {
     "data": {
      "text/latex": [
       "$\\displaystyle \\left[\\begin{matrix}M_{L}\\\\M_{0}\\\\V_{L}\\\\V_{0}\\end{matrix}\\right]=\\left[\\begin{matrix}437.5\\\\-1875.0\\\\-256.25\\\\243.75\\end{matrix}\\right]$"
      ],
      "text/plain": [
       "<IPython.core.display.Math object>"
      ]
     },
     "metadata": {},
     "output_type": "display_data"
    }
   ],
   "source": [
    "#### Problem 12 ####\n",
    "I = 1/120\n",
    "E = 1 * 10**6\n",
    "EI = E*I\n",
    "L = 10\n",
    "V_L, V_0, M_L, M_0 = sp.symbols('V_L, V_0, M_L, M_0')\n",
    "K = EI * sp.Matrix([[0,0,0,0],[0,0,0,0],[0,0,4*L,6*L**2],[0,0,6*L**2,12*L**3]])\n",
    "Q_dist = 50 * sp.Matrix([L,L/2,L**3/3,L**4/4])\n",
    "a = sp.Matrix([0,1.25*10**(-2),-2.5*10**(-3),1.25*10**(-4)])\n",
    "Q_bc = K*a - Q_dist\n",
    "displayEquations('Q_bc',Q_bc)\n",
    "C = sp.Matrix([[0,0,1,-1],[1,-1,L,0],[2*L,0,L**2,0],[3*L**2,0,L**3,0]])\n",
    "C_inv = C.inv()\n",
    "displayEquations(Matrix([M_L,M_0,V_L,V_0]),C_inv * Q_bc)"
   ]
  },
  {
   "cell_type": "code",
   "execution_count": 15,
   "metadata": {},
   "outputs": [
    {
     "data": {
      "text/latex": [
       "$\\displaystyle \\frac{85 L}{4}$"
      ],
      "text/plain": [
       "85*L/4"
      ]
     },
     "execution_count": 15,
     "metadata": {},
     "output_type": "execute_result"
    }
   ],
   "source": [
    "x,L = sp.symbols('x,L')\n",
    "h_x = 1 + 3*x / L\n",
    "j = sp.expand(h_x**3)\n",
    "sp.integrate(j,(x,0,L))"
   ]
  },
  {
   "cell_type": "code",
   "execution_count": 16,
   "metadata": {},
   "outputs": [],
   "source": [
    "#### Problem 17 ####\n",
    "import sympy as sp\n",
    "from IPython.display import display, Math, Latex\n",
    "from sympy.solvers.solveset import linsolve\n",
    "from sympy import  lambdify, Matrix \n",
    "import numpy as np\n",
    "import matplotlib.pyplot as plt\n",
    "\n",
    "def displayEquations(LHS,RHS):\n",
    "    left = sp.latex(LHS)\n",
    "    right = sp.latex(RHS)\n",
    "    display(Math(left + '=' + right))"
   ]
  },
  {
   "cell_type": "code",
   "execution_count": 54,
   "metadata": {},
   "outputs": [
    {
     "data": {
      "text/latex": [
       "$\\displaystyle \\mathtt{\\text{v(x)}}=a + b x + c x^{2} + d x^{3}$"
      ],
      "text/plain": [
       "<IPython.core.display.Math object>"
      ]
     },
     "metadata": {},
     "output_type": "display_data"
    },
    {
     "data": {
      "text/latex": [
       "$\\displaystyle \\mathtt{\\text{v(L)}}=L^{3} d + L^{2} c + L b + a$"
      ],
      "text/plain": [
       "<IPython.core.display.Math object>"
      ]
     },
     "metadata": {},
     "output_type": "display_data"
    },
    {
     "data": {
      "text/latex": [
       "$\\displaystyle \\mathtt{\\text{v'(L)}}=3 L^{2} d + 2 L c + b$"
      ],
      "text/plain": [
       "<IPython.core.display.Math object>"
      ]
     },
     "metadata": {},
     "output_type": "display_data"
    }
   ],
   "source": [
    "# Going from 2 kinematic terms to a 2 term solution\n",
    "a,b,c,d,x,L = sp.symbols('a,b,c,d,x,L')\n",
    "v = a + b*x + c*x**2 + d*x**3\n",
    "displayEquations('v(x)',v)\n",
    "    # applying kinematic boundary conditions\n",
    "kbc1 = v.subs({x:L})\n",
    "kbc2 = v.diff(x,1).subs({x:L})\n",
    "displayEquations('v(L)',kbc1)\n",
    "displayEquations(\"v'(L)\",kbc2)"
   ]
  },
  {
   "cell_type": "code",
   "execution_count": 55,
   "metadata": {},
   "outputs": [
    {
     "data": {
      "text/latex": [
       "$\\displaystyle \\mathtt{\\text{VAS}}=2 L^{3} d + L^{2} c + c x^{2} + d x^{3} + x \\left(- 3 L^{2} d - 2 L c\\right)$"
      ],
      "text/plain": [
       "<IPython.core.display.Math object>"
      ]
     },
     "metadata": {},
     "output_type": "display_data"
    }
   ],
   "source": [
    "    # Solving for dof\n",
    "dof = linsolve([kbc1,kbc2],[a,b])\n",
    "(a_sol,b_sol) = next(iter(dof))\n",
    "v_VAS = v.subs({a:a_sol, b:b_sol})\n",
    "displayEquations('VAS',v_VAS)"
   ]
  },
  {
   "cell_type": "code",
   "execution_count": 56,
   "metadata": {},
   "outputs": [
    {
     "data": {
      "text/latex": [
       "$\\displaystyle \\mathtt{\\text{N}}=\\left[\\begin{matrix}L^{2} - 2 L x + x^{2}\\\\2 L^{3} - 3 L^{2} x + x^{3}\\end{matrix}\\right]$"
      ],
      "text/plain": [
       "<IPython.core.display.Math object>"
      ]
     },
     "metadata": {},
     "output_type": "display_data"
    },
    {
     "data": {
      "text/latex": [
       "$\\displaystyle \\mathtt{\\text{N\\_0}}=0$"
      ],
      "text/plain": [
       "<IPython.core.display.Math object>"
      ]
     },
     "metadata": {},
     "output_type": "display_data"
    },
    {
     "data": {
      "text/latex": [
       "$\\displaystyle \\mathtt{\\text{q}}=\\left[\\begin{matrix}c\\\\d\\end{matrix}\\right]$"
      ],
      "text/plain": [
       "<IPython.core.display.Math object>"
      ]
     },
     "metadata": {},
     "output_type": "display_data"
    }
   ],
   "source": [
    "    # Creating the Interpolation equations\n",
    "N = Matrix([[sp.diff(v_VAS,c)],[sp.diff(v_VAS,d)]])\n",
    "N_0 = v_VAS.subs({c:0,d:0})\n",
    "q = Matrix([[c],[d]])\n",
    "displayEquations('N',N)\n",
    "displayEquations('N_0',N_0)\n",
    "displayEquations('q',q)"
   ]
  },
  {
   "cell_type": "code",
   "execution_count": 57,
   "metadata": {},
   "outputs": [
    {
     "data": {
      "text/latex": [
       "$\\displaystyle \\mathtt{\\text{N'}}=\\left[\\begin{matrix}- 2 L + 2 x\\\\- 3 L^{2} + 3 x^{2}\\end{matrix}\\right]$"
      ],
      "text/plain": [
       "<IPython.core.display.Math object>"
      ]
     },
     "metadata": {},
     "output_type": "display_data"
    },
    {
     "data": {
      "text/latex": [
       "$\\displaystyle \\mathtt{\\text{N''}}=\\left[\\begin{matrix}2\\\\6 x\\end{matrix}\\right]$"
      ],
      "text/plain": [
       "<IPython.core.display.Math object>"
      ]
     },
     "metadata": {},
     "output_type": "display_data"
    },
    {
     "data": {
      "text/latex": [
       "$\\displaystyle \\mathtt{\\text{K}}=\\left[\\begin{matrix}4 EI L & 6 EI L^{2}\\\\6 EI L^{2} & 12 EI L^{3}\\end{matrix}\\right]$"
      ],
      "text/plain": [
       "<IPython.core.display.Math object>"
      ]
     },
     "metadata": {},
     "output_type": "display_data"
    },
    {
     "data": {
      "text/latex": [
       "$\\displaystyle \\mathtt{\\text{Q\\_dist}}=\\left[\\begin{matrix}\\frac{5 L^{3}}{3}\\\\\\frac{15 L^{4}}{4}\\end{matrix}\\right]$"
      ],
      "text/plain": [
       "<IPython.core.display.Math object>"
      ]
     },
     "metadata": {},
     "output_type": "display_data"
    }
   ],
   "source": [
    "    # evaluating the matrices\n",
    "DN = N.diff(x)\n",
    "D2N = N.diff(x,2)\n",
    "displayEquations(\"N'\", DN)\n",
    "displayEquations(\"N''\",D2N)\n",
    "EI = sp.symbols('EI')\n",
    "K = EI * sp.integrate((D2N*D2N.T),(x,0,L))\n",
    "displayEquations('K',K)\n",
    "Q_dist = 5*sp.integrate(N, (x,0,L))\n",
    "displayEquations('Q_dist',Q_dist)"
   ]
  },
  {
   "cell_type": "code",
   "execution_count": 58,
   "metadata": {},
   "outputs": [
    {
     "data": {
      "text/latex": [
       "$\\displaystyle \\left[\\begin{matrix}c\\\\d\\end{matrix}\\right]=\\left[\\begin{matrix}- \\frac{5 L^{2}}{24 EI}\\\\\\frac{5 L}{12 EI}\\end{matrix}\\right]$"
      ],
      "text/plain": [
       "<IPython.core.display.Math object>"
      ]
     },
     "metadata": {},
     "output_type": "display_data"
    },
    {
     "data": {
      "text/latex": [
       "$\\displaystyle \\mathtt{\\text{v\\_approx}}=\\frac{5 L \\left(3 L^{3} - 4 L^{2} x - L x^{2} + 2 x^{3}\\right)}{24 EI}$"
      ],
      "text/plain": [
       "<IPython.core.display.Math object>"
      ]
     },
     "metadata": {},
     "output_type": "display_data"
    }
   ],
   "source": [
    "    # Solving the dof's \n",
    "j = K.inv() * Q_dist\n",
    "displayEquations(q,K.inv() * Q_dist)\n",
    "# creating the approximate solution\n",
    "v_approx = v_VAS.subs({c:j[0],d:j[1]})\n",
    "displayEquations('v_approx',v_approx.simplify())"
   ]
  },
  {
   "cell_type": "code",
   "execution_count": 59,
   "metadata": {},
   "outputs": [
    {
     "data": {
      "text/latex": [
       "$\\displaystyle \\mathtt{\\text{M}}=250 x - \\frac{12500}{3}$"
      ],
      "text/plain": [
       "<IPython.core.display.Math object>"
      ]
     },
     "metadata": {},
     "output_type": "display_data"
    },
    {
     "data": {
      "text/latex": [
       "$\\displaystyle \\mathtt{\\text{V}}=-250$"
      ],
      "text/plain": [
       "<IPython.core.display.Math object>"
      ]
     },
     "metadata": {},
     "output_type": "display_data"
    }
   ],
   "source": [
    "    # Creating Graphs\n",
    "v_approx = v_approx.subs({L:100})\n",
    "M = EI * v_approx.diff(x,2)\n",
    "V = - M.diff(x,1)\n",
    "displayEquations('M',M)\n",
    "displayEquations('V',V)"
   ]
  },
  {
   "cell_type": "code",
   "execution_count": 60,
   "metadata": {},
   "outputs": [],
   "source": [
    "# Creating lambda functions to graph with\n",
    "v_EI = v_approx.subs({EI:1*10**6 * ((85*2*100)/48)})\n",
    "v = lambdify(x,v_EI)\n",
    "M = lambdify(x,M)\n",
    "V_list = []\n",
    "for i in range(1000):\n",
    "    V_list.append(-250)"
   ]
  },
  {
   "cell_type": "code",
   "execution_count": 61,
   "metadata": {},
   "outputs": [
    {
     "data": {
      "image/png": "[encoded data removed]",
      "text/plain": [
       "<Figure size 640x480 with 1 Axes>"
      ]
     },
     "metadata": {},
     "output_type": "display_data"
    },
    {
     "data": {
      "image/png": "[encoded data removed]",
      "text/plain": [
       "<Figure size 640x480 with 1 Axes>"
      ]
     },
     "metadata": {},
     "output_type": "display_data"
    },
    {
     "data": {
      "image/png": "[encoded data removed]",
      "text/plain": [
       "<Figure size 640x480 with 1 Axes>"
      ]
     },
     "metadata": {},
     "output_type": "display_data"
    }
   ],
   "source": [
    "# Graphing\n",
    "def plot(function1, label):\n",
    "    x_values = np.linspace(0, 100, 1000)\n",
    "    plt.title('{}'.format(str(label)))\n",
    "    plt.plot(x_values, function1(x_values),label = '{}'.format(str(label)))\n",
    "    plt.xlabel('x')\n",
    "    plt.legend()\n",
    "    plt.ylabel('{}(x)'.format(str(label)))\n",
    "    plt.show()\n",
    "plot(v,'v')\n",
    "plot(M,'M')\n",
    "plt.plot(np.linspace(0,100,1000),V_list, label = 'V')\n",
    "plt.xlabel('x')\n",
    "plt.ylabel('V(x)')\n",
    "plt.title('Shear Stress')\n",
    "plt.legend()\n",
    "plt.show()"
   ]
  },
  {
   "cell_type": "code",
   "execution_count": 62,
   "metadata": {},
   "outputs": [
    {
     "data": {
      "text/latex": [
       "$\\displaystyle \\mathtt{\\text{N}}=\\left[\\begin{matrix}x^{2}\\\\x^{3}\\end{matrix}\\right]$"
      ],
      "text/plain": [
       "<IPython.core.display.Math object>"
      ]
     },
     "metadata": {},
     "output_type": "display_data"
    },
    {
     "data": {
      "text/latex": [
       "$\\displaystyle \\mathtt{\\text{N\\_0}}=0$"
      ],
      "text/plain": [
       "<IPython.core.display.Math object>"
      ]
     },
     "metadata": {},
     "output_type": "display_data"
    },
    {
     "data": {
      "text/latex": [
       "$\\displaystyle \\mathtt{\\text{q}}=\\left[\\begin{matrix}a_{1}\\\\a_{2}\\end{matrix}\\right]$"
      ],
      "text/plain": [
       "<IPython.core.display.Math object>"
      ]
     },
     "metadata": {},
     "output_type": "display_data"
    }
   ],
   "source": [
    "#### Problem 18 ####\n",
    "    # a\n",
    "a_1,a_2,x,y = sp.symbols('a_1,a_2,x,y')\n",
    "VAS = a_1*x**2 + a_2*x**3\n",
    "    # Creating the Interpolation equations\n",
    "N = Matrix([[sp.diff(VAS,a_1)],[sp.diff(VAS,a_2)]])\n",
    "N_0 = VAS.subs({a_1:0,a_2:0})\n",
    "q = Matrix([[a_1],[a_2]])\n",
    "displayEquations('N',N)\n",
    "displayEquations('N_0',N_0)\n",
    "displayEquations('q',q)\n"
   ]
  },
  {
   "cell_type": "code",
   "execution_count": 63,
   "metadata": {},
   "outputs": [
    {
     "data": {
      "text/latex": [
       "$\\displaystyle \\mathtt{\\text{N'}}=\\left[\\begin{matrix}2 x\\\\3 x^{2}\\end{matrix}\\right]$"
      ],
      "text/plain": [
       "<IPython.core.display.Math object>"
      ]
     },
     "metadata": {},
     "output_type": "display_data"
    },
    {
     "data": {
      "text/latex": [
       "$\\displaystyle \\mathtt{\\text{N''}}=\\left[\\begin{matrix}2\\\\6 x\\end{matrix}\\right]$"
      ],
      "text/plain": [
       "<IPython.core.display.Math object>"
      ]
     },
     "metadata": {},
     "output_type": "display_data"
    },
    {
     "data": {
      "text/latex": [
       "$\\displaystyle \\mathtt{\\text{K}}=\\left[\\begin{matrix}4 EI L & 6 EI L^{2}\\\\6 EI L^{2} & 12 EI L^{3}\\end{matrix}\\right]$"
      ],
      "text/plain": [
       "<IPython.core.display.Math object>"
      ]
     },
     "metadata": {},
     "output_type": "display_data"
    },
    {
     "data": {
      "text/latex": [
       "$\\displaystyle \\mathtt{\\text{Q\\_dist}}=\\left[\\begin{matrix}0\\\\0\\end{matrix}\\right]$"
      ],
      "text/plain": [
       "<IPython.core.display.Math object>"
      ]
     },
     "metadata": {},
     "output_type": "display_data"
    },
    {
     "data": {
      "text/latex": [
       "$\\displaystyle \\mathtt{\\text{Q\\_T}}=\\left[\\begin{matrix}-3333.33333333333\\\\-50000.0\\end{matrix}\\right]$"
      ],
      "text/plain": [
       "<IPython.core.display.Math object>"
      ]
     },
     "metadata": {},
     "output_type": "display_data"
    },
    {
     "data": {
      "text/latex": [
       "$\\displaystyle \\mathtt{\\text{Q\\_bc}}=\\left[\\begin{matrix}100 L^{2}\\\\100 L^{3}\\end{matrix}\\right]$"
      ],
      "text/plain": [
       "<IPython.core.display.Math object>"
      ]
     },
     "metadata": {},
     "output_type": "display_data"
    }
   ],
   "source": [
    "    # evaluating the matrices\n",
    "DN = N.diff(x)\n",
    "D2N = N.diff(x,2)\n",
    "displayEquations(\"N'\", DN)\n",
    "displayEquations(\"N''\",D2N)\n",
    "EI = sp.symbols('EI')# 10**6*(.1*1**3)/12\n",
    "K = EI * sp.integrate((D2N*D2N.T),(x,0,L))\n",
    "displayEquations('K',K)\n",
    "Q_dist = 0*sp.integrate(N, (x,0,L))\n",
    "displayEquations('Q_dist',Q_dist)\n",
    "Thermal_thing_to_integrate = y*0.1*10*10**(-6)*10**7*(200*y)*D2N\n",
    "Q_T = - sp.integrate((sp.integrate(Thermal_thing_to_integrate,(y,-.5,.5))),(x,0,10))\n",
    "displayEquations('Q_T',Q_T)\n",
    "Q_bc = 100 * N.subs({x:L})\n",
    "displayEquations('Q_bc',Q_bc)"
   ]
  },
  {
   "cell_type": "code",
   "execution_count": 64,
   "metadata": {},
   "outputs": [
    {
     "data": {
      "text/latex": [
       "$\\displaystyle \\left[\\begin{matrix}a_{1}\\\\a_{2}\\end{matrix}\\right]=\\left[\\begin{matrix}\\frac{100 L^{2} - 3333.33333333333}{EI L} - \\frac{100 L^{3} - 50000.0}{2 EI L^{2}}\\\\- \\frac{100 L^{2} - 3333.33333333333}{2 EI L^{2}} + \\frac{100 L^{3} - 50000.0}{3 EI L^{3}}\\end{matrix}\\right]$"
      ],
      "text/plain": [
       "<IPython.core.display.Math object>"
      ]
     },
     "metadata": {},
     "output_type": "display_data"
    },
    {
     "data": {
      "text/latex": [
       "$\\displaystyle \\mathtt{\\text{v\\_approx}}=\\frac{x^{2} \\cdot \\left(50.0 L^{4} - 16.6666666666667 L^{3} x - 3333.33333333333 L^{2} + 1666.66666666667 L x + 25000.0 L - 16666.6666666667 x\\right)}{EI L^{3}}$"
      ],
      "text/plain": [
       "<IPython.core.display.Math object>"
      ]
     },
     "metadata": {},
     "output_type": "display_data"
    },
    {
     "data": {
      "text/latex": [
       "$\\displaystyle \\mathtt{\\text{v\\_approx}}=- 0.002 x^{3} + 0.05 x^{2}$"
      ],
      "text/plain": [
       "<IPython.core.display.Math object>"
      ]
     },
     "metadata": {},
     "output_type": "display_data"
    }
   ],
   "source": [
    "    # Solving the dof's \n",
    "j = K.inv() * (Q_dist + Q_T + Q_bc)\n",
    "displayEquations(q,j)\n",
    "# creating the approximate solution\n",
    "v_approx = VAS.subs({a_1:j[0],a_2:j[1]})\n",
    "displayEquations('v_approx',v_approx.simplify())\n",
    "v_approx = v_approx.subs({L:10, EI:10**6*(.1*1**3)/12})\n",
    "displayEquations('v_approx',v_approx)"
   ]
  },
  {
   "cell_type": "code",
   "execution_count": 65,
   "metadata": {},
   "outputs": [
    {
     "data": {
      "text/latex": [
       "$\\displaystyle \\mathtt{\\text{M}}=1000.0 - 100.0 x$"
      ],
      "text/plain": [
       "<IPython.core.display.Math object>"
      ]
     },
     "metadata": {},
     "output_type": "display_data"
    },
    {
     "data": {
      "text/latex": [
       "$\\displaystyle \\mathtt{\\text{V}}=100.0$"
      ],
      "text/plain": [
       "<IPython.core.display.Math object>"
      ]
     },
     "metadata": {},
     "output_type": "display_data"
    }
   ],
   "source": [
    "    #finding V and M approximate\n",
    "EI = 10**6*(.1*1**3)/12\n",
    "M = EI * v_approx.diff(x,2) + sp.integrate(y*0.1*10*10**(-6)*10**7*(200*y),(y,-.5,.5))\n",
    "V = - M.diff(x,1)\n",
    "displayEquations('M',M)\n",
    "displayEquations('V',V)"
   ]
  },
  {
   "cell_type": "code",
   "execution_count": 66,
   "metadata": {},
   "outputs": [],
   "source": [
    "    #graphing v_approx\n",
    "v_approx = lambdify(x,v_approx)\n",
    "M = lambdify(x,M)"
   ]
  },
  {
   "cell_type": "code",
   "execution_count": 67,
   "metadata": {},
   "outputs": [
    {
     "data": {
      "image/png": "[encoded data removed]",
      "text/plain": [
       "<Figure size 640x480 with 1 Axes>"
      ]
     },
     "metadata": {},
     "output_type": "display_data"
    },
    {
     "data": {
      "image/png": "[encoded data removed]",
      "text/plain": [
       "<Figure size 640x480 with 1 Axes>"
      ]
     },
     "metadata": {},
     "output_type": "display_data"
    },
    {
     "data": {
      "image/png": "[encoded data removed]",
      "text/plain": [
       "<Figure size 640x480 with 1 Axes>"
      ]
     },
     "metadata": {},
     "output_type": "display_data"
    }
   ],
   "source": [
    "plot(v_approx,'v_approx')\n",
    "plot(M,'M')\n",
    "Vlist = []\n",
    "for i in range(1000):\n",
    "    Vlist.append(float(100))\n",
    "plt.plot(np.linspace(0,100,1000),Vlist, label = 'V')\n",
    "plt.xlabel('x')\n",
    "plt.ylabel('V(x)')\n",
    "plt.title('Shear Stress')\n",
    "plt.legend()\n",
    "plt.show()"
   ]
  },
  {
   "cell_type": "code",
   "execution_count": 68,
   "metadata": {},
   "outputs": [
    {
     "data": {
      "text/latex": [
       "$\\displaystyle \\mathtt{\\text{q}}=\\left[\\begin{matrix}0\\\\0\\\\0.05\\\\-0.002\\end{matrix}\\right]$"
      ],
      "text/plain": [
       "<IPython.core.display.Math object>"
      ]
     },
     "metadata": {},
     "output_type": "display_data"
    },
    {
     "data": {
      "text/latex": [
       "$\\displaystyle \\mathtt{\\text{N'}}=\\left[\\begin{matrix}0\\\\1\\\\2 x\\\\3 x^{2}\\end{matrix}\\right]$"
      ],
      "text/plain": [
       "<IPython.core.display.Math object>"
      ]
     },
     "metadata": {},
     "output_type": "display_data"
    },
    {
     "data": {
      "text/latex": [
       "$\\displaystyle \\mathtt{\\text{N''}}=\\left[\\begin{matrix}0\\\\0\\\\2\\\\6 x\\end{matrix}\\right]$"
      ],
      "text/plain": [
       "<IPython.core.display.Math object>"
      ]
     },
     "metadata": {},
     "output_type": "display_data"
    },
    {
     "data": {
      "text/latex": [
       "$\\displaystyle \\mathtt{\\text{K}}=\\left[\\begin{matrix}0 & 0 & 0 & 0\\\\0 & 0 & 0 & 0\\\\0 & 0 & 4 EI L & 6 EI L^{2}\\\\0 & 0 & 6 EI L^{2} & 12 EI L^{3}\\end{matrix}\\right]$"
      ],
      "text/plain": [
       "<IPython.core.display.Math object>"
      ]
     },
     "metadata": {},
     "output_type": "display_data"
    },
    {
     "data": {
      "text/latex": [
       "$\\displaystyle \\mathtt{\\text{Q\\_dist}}=\\left[\\begin{matrix}0\\\\0\\\\0\\\\0\\end{matrix}\\right]$"
      ],
      "text/plain": [
       "<IPython.core.display.Math object>"
      ]
     },
     "metadata": {},
     "output_type": "display_data"
    },
    {
     "data": {
      "text/latex": [
       "$\\displaystyle \\mathtt{\\text{Q\\_T}}=\\left[\\begin{matrix}0\\\\0\\\\-3333.33333333333\\\\-50000.0\\end{matrix}\\right]$"
      ],
      "text/plain": [
       "<IPython.core.display.Math object>"
      ]
     },
     "metadata": {},
     "output_type": "display_data"
    },
    {
     "data": {
      "text/latex": [
       "$\\displaystyle \\mathtt{\\text{Q\\_bc}}=\\left[\\begin{matrix}- V_{0} + V_{L}\\\\L V_{L} - M_{0} + M_{L}\\\\L^{2} V_{L} + 2 L M_{L}\\\\L^{3} V_{L} + 3 L^{2} M_{L}\\end{matrix}\\right]$"
      ],
      "text/plain": [
       "<IPython.core.display.Math object>"
      ]
     },
     "metadata": {},
     "output_type": "display_data"
    }
   ],
   "source": [
    "#### Variationally Consistent Method ####\n",
    "a,b,c,x = sp.symbols('a,b,c,x')\n",
    "N = Matrix([1,x,x**2,x**3]) # a + b*x + c*x**2 + d*x**3\n",
    "q = Matrix([0,0,0.05,-0.002])\n",
    "displayEquations('q',q)\n",
    "    # evaluating the matrices\n",
    "DN = N.diff(x)\n",
    "D2N = N.diff(x,2)\n",
    "displayEquations(\"N'\", DN)\n",
    "displayEquations(\"N''\",D2N)\n",
    "EI = sp.symbols('EI')# 10**6*(.1*1**3)/12\n",
    "K = EI * sp.integrate((D2N*D2N.T),(x,0,L))\n",
    "displayEquations('K',K)\n",
    "Q_dist = 0*sp.integrate(N, (x,0,L))\n",
    "displayEquations('Q_dist',Q_dist)\n",
    "Thermal_thing_to_integrate = y*0.1*10*10**(-6)*10**7*(200*y)*D2N\n",
    "Q_T = - sp.integrate((sp.integrate(Thermal_thing_to_integrate,(y,-.5,.5))),(x,0,10))\n",
    "displayEquations('Q_T',Q_T)\n",
    "    # creating the place holder for Q_bc\n",
    "V_L, V_0, M_L, M_0 = sp.symbols('V_L, V_0, M_L, M_0')\n",
    "Q_bc = M_L * DN.subs(x,L) + V_L * N.subs(x,L) - M_0*DN.subs(x,0) - V_0*N.subs(x,0)\n",
    "displayEquations('Q_bc',Q_bc)\n"
   ]
  },
  {
   "cell_type": "code",
   "execution_count": 69,
   "metadata": {},
   "outputs": [
    {
     "data": {
      "text/latex": [
       "$\\displaystyle \\left[\\begin{matrix}V_{0}\\\\V_{L}\\\\M_{0}\\\\M_{L}\\end{matrix}\\right]=\\left[\\begin{matrix}100.0\\\\100.0\\\\1000.0\\\\1.13686837721616 \\cdot 10^{-13}\\end{matrix}\\right]$"
      ],
      "text/plain": [
       "<IPython.core.display.Math object>"
      ]
     },
     "metadata": {},
     "output_type": "display_data"
    },
    {
     "data": {
      "text/latex": [
       "$\\displaystyle V_{0}=100.0$"
      ],
      "text/plain": [
       "<IPython.core.display.Math object>"
      ]
     },
     "metadata": {},
     "output_type": "display_data"
    },
    {
     "data": {
      "text/latex": [
       "$\\displaystyle M_{0}=1000.0$"
      ],
      "text/plain": [
       "<IPython.core.display.Math object>"
      ]
     },
     "metadata": {},
     "output_type": "display_data"
    }
   ],
   "source": [
    "    # Creating Q_bc coefficient matrix and solving for boundary forces\n",
    "u = Matrix([V_0, V_L, M_0, M_L])\n",
    "BC_coeff = Matrix([[-1,1,0,0],[0,L,-1,1],[0,L**2,0,2*L],[0,L**3,0,3*L**2]])\n",
    "j = BC_coeff.inv()*(K*q - Q_T - Q_dist)\n",
    "j = j.subs({EI:10**6*(.1*1**3)/12,L:10})\n",
    "displayEquations(u,j)\n",
    "displayEquations(u[0],j[0])\n",
    "displayEquations(u[2],j[2])"
   ]
  },
  {
   "cell_type": "code",
   "execution_count": 70,
   "metadata": {},
   "outputs": [
    {
     "name": "stdout",
     "output_type": "stream",
     "text": [
      "M0 exact =  1250.0\n"
     ]
    }
   ],
   "source": [
    "print('M0 exact = ',25*.1*10**7*10*10**(-6)*1**2 + 100*10) # P = -100, h = 1, b = .1"
   ]
  }
 ],
 "metadata": {
  "kernelspec": {
   "display_name": "Python 3 (ipykernel)",
   "language": "python",
   "name": "python3"
  },
  "language_info": {
   "codemirror_mode": {
    "name": "ipython",
    "version": 3
   },
   "file_extension": ".py",
   "mimetype": "text/x-python",
   "name": "python",
   "nbconvert_exporter": "python",
   "pygments_lexer": "ipython3",
   "version": "3.9.13"
  },
  "vscode": {
   "interpreter": {
    "hash": "043433d6b18bdeb8544c06540320f4c494e406f840db1fa6d3d1188f7786a55f"
   }
  }
 },
 "nbformat": 4,
 "nbformat_minor": 2
}
