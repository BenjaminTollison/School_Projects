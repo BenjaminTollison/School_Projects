{
 "cells": [
  {
   "cell_type": "code",
   "execution_count": 125,
   "metadata": {},
   "outputs": [],
   "source": [
    "### Benjamin Tollison Hw7 ###\n",
    "import sympy as sp\n",
    "from IPython.display import display, Math, Latex\n",
    "from sympy.solvers.solveset import linsolve\n",
    "from sympy import  lambdify, Matrix,sin,cos, sinh, cosh, exp, pi, symbols, integrate\n",
    "import numpy as np\n",
    "import matplotlib.pyplot as plt\n",
    "def displayEquations(LHS,RHS):\n",
    "    left = sp.latex(LHS)\n",
    "    right = sp.latex(RHS)\n",
    "    display(Math(left + '=' + right))\n",
    "    np.set_printoptions(suppress=True)"
   ]
  },
  {
   "cell_type": "code",
   "execution_count": 134,
   "metadata": {},
   "outputs": [
    {
     "name": "stdout",
     "output_type": "stream",
     "text": [
      "[ 508 -444 -215 9517  511 1012]\n",
      "Sigmas A & B:\n",
      "[-3772.96887314 -3429.97170285]\n",
      "[2229.48160685  171.49858514]\n"
     ]
    }
   ],
   "source": [
    "# Problem 5\n",
    "    # b\n",
    "K = np.array([[5,-119,296,62,-744,456],\n",
    "              [-119,3125,104,-644,357,204],\n",
    "              [296,104,125,-500,-350,287],\n",
    "              [62,-644,-500,10125,420,-600],\n",
    "              [-744,357,-350,420,3645,117],\n",
    "              [456,204,287,-600,117,1620]])\n",
    "F_eq = np.array([10,4,2,8,26,8])\n",
    "q = np.array([0,0,0,1,0,1])\n",
    "print(K@q- F_eq)\n",
    "    # f\n",
    "T = (1/np.sqrt(34)) * np.array([[-5,3],[-3,-5]])\n",
    "point_A = T @ np.array([5000,1000])\n",
    "print('Sigmas A & B:')\n",
    "print(point_A)\n",
    "point_B = T @ np.array([-2000,1000])\n",
    "print(point_B)"
   ]
  },
  {
   "cell_type": "code",
   "execution_count": 127,
   "metadata": {},
   "outputs": [
    {
     "data": {
      "text/latex": [
       "$\\displaystyle \\mathtt{\\text{K}}=\\left[\\begin{matrix}\\frac{A E}{L} & 0 & 0 & - \\frac{A E}{L} & 0 & 0\\\\0 & \\frac{12 E I}{L^{3}} & \\frac{6 E I}{L^{2}} & 0 & - \\frac{12 E I}{L^{3}} & \\frac{6 E I}{L^{2}}\\\\0 & \\frac{6 E I}{L^{2}} & \\frac{4 E I}{L} & 0 & - \\frac{6 E I}{L^{2}} & \\frac{2 E I}{L}\\\\- \\frac{A E}{L} & 0 & 0 & \\frac{A E}{L} & 0 & 0\\\\0 & - \\frac{12 E I}{L^{3}} & - \\frac{6 E I}{L^{2}} & 0 & \\frac{12 E I}{L^{3}} & - \\frac{6 E I}{L^{2}}\\\\0 & \\frac{6 E I}{L^{2}} & \\frac{2 E I}{L} & 0 & - \\frac{6 E I}{L^{2}} & \\frac{4 E I}{L}\\end{matrix}\\right]$"
      ],
      "text/plain": [
       "<IPython.core.display.Math object>"
      ]
     },
     "metadata": {},
     "output_type": "display_data"
    },
    {
     "data": {
      "text/latex": [
       "$\\displaystyle \\mathtt{\\text{K}}=\\left[\\begin{matrix}\\frac{A E c^{2}}{L} + \\frac{12 E I s^{2}}{L^{3}} & \\frac{A E c s}{L} - \\frac{12 E I c s}{L^{3}} & - \\frac{6 E I s}{L^{2}} & - \\frac{A E c^{2}}{L} - \\frac{12 E I s^{2}}{L^{3}} & - \\frac{A E c s}{L} + \\frac{12 E I c s}{L^{3}} & - \\frac{6 E I s}{L^{2}}\\\\\\frac{A E c s}{L} - \\frac{12 E I c s}{L^{3}} & \\frac{A E s^{2}}{L} + \\frac{12 E I c^{2}}{L^{3}} & \\frac{6 E I c}{L^{2}} & - \\frac{A E c s}{L} + \\frac{12 E I c s}{L^{3}} & - \\frac{A E s^{2}}{L} - \\frac{12 E I c^{2}}{L^{3}} & \\frac{6 E I c}{L^{2}}\\\\- \\frac{6 E I s}{L^{2}} & \\frac{6 E I c}{L^{2}} & \\frac{4 E I}{L} & \\frac{6 E I s}{L^{2}} & - \\frac{6 E I c}{L^{2}} & \\frac{2 E I}{L}\\\\- \\frac{A E c^{2}}{L} - \\frac{12 E I s^{2}}{L^{3}} & - \\frac{A E c s}{L} + \\frac{12 E I c s}{L^{3}} & \\frac{6 E I s}{L^{2}} & \\frac{A E c^{2}}{L} + \\frac{12 E I s^{2}}{L^{3}} & \\frac{A E c s}{L} - \\frac{12 E I c s}{L^{3}} & \\frac{6 E I s}{L^{2}}\\\\- \\frac{A E c s}{L} + \\frac{12 E I c s}{L^{3}} & - \\frac{A E s^{2}}{L} - \\frac{12 E I c^{2}}{L^{3}} & - \\frac{6 E I c}{L^{2}} & \\frac{A E c s}{L} - \\frac{12 E I c s}{L^{3}} & \\frac{A E s^{2}}{L} + \\frac{12 E I c^{2}}{L^{3}} & - \\frac{6 E I c}{L^{2}}\\\\- \\frac{6 E I s}{L^{2}} & \\frac{6 E I c}{L^{2}} & \\frac{2 E I}{L} & \\frac{6 E I s}{L^{2}} & - \\frac{6 E I c}{L^{2}} & \\frac{4 E I}{L}\\end{matrix}\\right]$"
      ],
      "text/plain": [
       "<IPython.core.display.Math object>"
      ]
     },
     "metadata": {},
     "output_type": "display_data"
    }
   ],
   "source": [
    "E,A,I,c,s,L = symbols('E,A,I,c,s,L')\n",
    "K_sp = E * Matrix([[A/L,0,0,-A/L,0,0],[0,12*I/L**3,6*I/L**2,0,-12*I/L**3,6*I/L**2],\n",
    "               [0,6*I/L**2,4*I/L,0,-6*I/L**2,2*I/L],\n",
    "               [-A/L,0,0,A/L,0,0],\n",
    "               [0,-12*I/L**3,-6*I/L**2,0,12*I/L**3,-6*I/L**2],\n",
    "               [0,6*I/L**2,2*I/L,0,-6*I/L**2,4*I/L]])\n",
    "displayEquations('K',K_sp)\n",
    "T_sp = Matrix([[c,s,0,0,0,0],\n",
    "               [-s,c,0,0,0,0],\n",
    "               [0,0,1,0,0,0],\n",
    "               [0,0,0,c,s,0],\n",
    "               [0,0,0,-s,c,0],\n",
    "               [0,0,0,0,0,1]])\n",
    "K_global_sp = T_sp.T*K_sp*T_sp\n",
    "displayEquations('K',K_global_sp)"
   ]
  },
  {
   "cell_type": "code",
   "execution_count": 128,
   "metadata": {},
   "outputs": [
    {
     "name": "stdout",
     "output_type": "stream",
     "text": [
      "Global Displacements\n",
      "[-0.0]\n",
      "[0.0]\n",
      "[0.0]\n",
      "[0.047837]\n",
      "[-0.032119]\n",
      "[0.0]\n",
      "[0.0]\n",
      "[0.0]\n",
      "[0.0]\n",
      "Global Forces\n",
      "[-1251.092754]\n",
      "[-1249.661641]\n",
      "[71.555648]\n",
      "[0.0]\n",
      "[0.0]\n",
      "[67.671852]\n",
      "[-3748.907246]\n",
      "[1249.661641]\n",
      "[-3.883796]\n"
     ]
    }
   ],
   "source": [
    "#### Problem 7 ####\n",
    "connections = [[2,1],[2,3]]\n",
    "cooridnates = [[0,0],[100,100],[400,0]]\n",
    "def delta_x(element):\n",
    "    x = cooridnates[element[1]-1][0] - cooridnates[element[0]-1][0]\n",
    "    return x\n",
    "def delta_y(element):\n",
    "    y = cooridnates[element[1]-1][1] - cooridnates[element[0]-1][1]\n",
    "    return y\n",
    "def K_local(element):\n",
    "    E = 10**7\n",
    "    I = (1/12) * (1.5**4)\n",
    "    L = np.sqrt(delta_x(element)**2 + delta_y(element)**2)\n",
    "    A = 1.5*1.5\n",
    "    K_local_cooridnates = E* np.array([[A/L,0,0,-A/L,0,0],\n",
    "                                       [0,12*I/L**3,6*I/L**2,0,-12*I/L**3,6*I/L**2],\n",
    "                                       [0,6*I/L**2,4*I/L,0,-6*I/L**2,2*I/L],\n",
    "                                       [-A/L,0,0,A/L,0,0],\n",
    "                                       [0,-12*I/L**3,-6*I/L**2,0,12*I/L**3,-6*I/L**2],\n",
    "                                       [0,6*I/L**2,2*I/L,0,-6*I/L**2,4*I/L]])\n",
    "    return K_local_cooridnates\n",
    "def get_element_dof(element):\n",
    "    i = element\n",
    "    dof_list = [i[0]*3-3,i[0]*3-2,i[0]*3-1,i[1]*3-3,i[1]*3-2,i[1]*3-1]\n",
    "    return dof_list\n",
    "def Transpose_Matrix(element):\n",
    "    L = np.sqrt(delta_x(element)**2 + delta_y(element)**2)\n",
    "    c = delta_x(element) / L\n",
    "    s = delta_y(element) / L\n",
    "    T = np.array([[c,s,0],\n",
    "                  [-s,c,0],\n",
    "                  [0,0,1]])\n",
    "    return T\n",
    "def K_global(connectivity):\n",
    "    K = np.zeros((9,9))\n",
    "    for i in connectivity:\n",
    "        L = np.sqrt(delta_x(i)**2 + delta_y(i)**2)\n",
    "        c = delta_x(i) / L\n",
    "        s = delta_y(i) / L\n",
    "        Transpose_Matrix = np.array([[c,s,0,0,0,0],\n",
    "                                     [-s,c,0,0,0,0],\n",
    "                                     [0,0,1,0,0,0],\n",
    "                                     [0,0,0,c,s,0],\n",
    "                                     [0,0,0,-s,c,0],\n",
    "                                     [0,0,0,0,0,1]])\n",
    "        K_local_global_cooridinates = np.linalg.inv(Transpose_Matrix) @ K_local(i) @ Transpose_Matrix\n",
    "        for j in range(6):\n",
    "            for c in range(6):\n",
    "                K[get_element_dof(i)[j]][get_element_dof(i)[c]] += K_local_global_cooridinates[j][c]\n",
    "    return K\n",
    "F_eq = np.array([0,0,0,5000,0,0,0,0,0])\n",
    "dof_to_be_zero = [0,1,2,5,6,7,8]\n",
    "def global_node_displacement(connectivity,zeros_dof):\n",
    "    K_global_bc = K_global(connectivity)\n",
    "    for i in zeros_dof:\n",
    "        K_global_bc[i][:] = 0\n",
    "        K_global_bc[:][i] = 0\n",
    "        K_global_bc[i][i] = 1\n",
    "    q = np.linalg.inv(K_global_bc) @ F_eq\n",
    "    return q\n",
    "def Global_vc(connectivity,zeros_dof):\n",
    "    forces = K_global(connectivity) @ global_node_displacement(connectivity,zeros_dof) - F_eq\n",
    "    return forces\n",
    "print('Global Displacements')\n",
    "for i in global_node_displacement(connections,dof_to_be_zero):\n",
    "    print('[{}]'.format(round(i,6)))\n",
    "print('Global Forces')\n",
    "for i in Global_vc(connections,dof_to_be_zero):\n",
    "    print('[{}]'.format(round(i,6)))\n"
   ]
  },
  {
   "cell_type": "code",
   "execution_count": 130,
   "metadata": {},
   "outputs": [
    {
     "name": "stdout",
     "output_type": "stream",
     "text": [
      "Internal forces\n"
     ]
    },
    {
     "data": {
      "text/latex": [
       "$\\displaystyle \\mathtt{\\text{node\\_1}}=\\mathtt{\\text{[-1768.30039039     1.01194968   -71.55564839]}}$"
      ],
      "text/plain": [
       "<IPython.core.display.Math object>"
      ]
     },
     "metadata": {},
     "output_type": "display_data"
    },
    {
     "data": {
      "text/latex": [
       "$\\displaystyle \\mathtt{\\text{node\\_2}}=\\mathtt{\\text{[  0.          0.        -67.6718522]}}$"
      ],
      "text/plain": [
       "<IPython.core.display.Math object>"
      ]
     },
     "metadata": {},
     "output_type": "display_data"
    },
    {
     "data": {
      "text/latex": [
       "$\\displaystyle \\mathtt{\\text{node\\_3}}=\\mathtt{\\text{[3951.70339943   -0.02456328    3.88379619]}}$"
      ],
      "text/plain": [
       "<IPython.core.display.Math object>"
      ]
     },
     "metadata": {},
     "output_type": "display_data"
    }
   ],
   "source": [
    "# part c\n",
    "print('Internal forces')\n",
    "node_1_internal_forces = Transpose_Matrix([2,1]) @ np.array([Global_vc(connections,dof_to_be_zero)[0],\n",
    "                                                                Global_vc(connections,dof_to_be_zero)[1],\n",
    "                                                                Global_vc(connections,dof_to_be_zero)[2]]) *(-1)\n",
    "node_2_internal_forces = Transpose_Matrix([2,1]) @ np.array([Global_vc(connections,dof_to_be_zero)[3],\n",
    "                                                                Global_vc(connections,dof_to_be_zero)[4],\n",
    "                                                                Global_vc(connections,dof_to_be_zero)[5]])*(-1)\n",
    "node_3_internal_forces = Transpose_Matrix([2,3]) @ np.array([Global_vc(connections,dof_to_be_zero)[6],\n",
    "                                                                Global_vc(connections,dof_to_be_zero)[7],\n",
    "                                                                Global_vc(connections,dof_to_be_zero)[8]])*(-1)\n",
    "displayEquations('node_1',node_1_internal_forces)\n",
    "displayEquations('node_2',node_2_internal_forces)\n",
    "displayEquations('node_3',node_3_internal_forces)"
   ]
  },
  {
   "cell_type": "code",
   "execution_count": 131,
   "metadata": {},
   "outputs": [
    {
     "name": "stdout",
     "output_type": "stream",
     "text": [
      "(-531.4912014669579, -1040.331367772735, 0.44975541516845463)\n",
      "(240.61103003564656, -240.61103003564628, 1.4291330468374983e-13)\n",
      "(1742.503568850243, 1770.1216750846793, -0.010917015045068024)\n"
     ]
    }
   ],
   "source": [
    "# part d\n",
    "def sigmas(node):\n",
    "    h = 1.5\n",
    "    I = 1/12 * h**4\n",
    "    sigma_top = node[0]/h**2 - node[2]*h/I\n",
    "    simga_bot = node[0]/h**2 + node[2]*h/I\n",
    "    simga_shear_avg = node[1]/h**2\n",
    "    return sigma_top, simga_bot, simga_shear_avg\n",
    "print(sigmas(node_1_internal_forces))\n",
    "print(sigmas(node_2_internal_forces))\n",
    "print(sigmas(node_3_internal_forces))"
   ]
  }
 ],
 "metadata": {
  "kernelspec": {
   "display_name": "Python 3",
   "language": "python",
   "name": "python3"
  },
  "language_info": {
   "codemirror_mode": {
    "name": "ipython",
    "version": 3
   },
   "file_extension": ".py",
   "mimetype": "text/x-python",
   "name": "python",
   "nbconvert_exporter": "python",
   "pygments_lexer": "ipython3",
   "version": "3.11.2"
  },
  "orig_nbformat": 4
 },
 "nbformat": 4,
 "nbformat_minor": 2
}
