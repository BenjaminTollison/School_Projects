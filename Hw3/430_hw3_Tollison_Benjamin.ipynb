{
 "cells": [
  {
   "cell_type": "code",
   "execution_count": 1,
   "metadata": {},
   "outputs": [],
   "source": [
    "### Benjamin Tollison Hw3 ###\n",
    "import sympy as sp\n",
    "from IPython.display import display, Math, Latex\n",
    "from sympy.solvers.solveset import linsolve\n",
    "from sympy import  lambdify, Matrix, sinh, cosh, exp, pi, symbols\n",
    "import numpy as np\n",
    "import matplotlib.pyplot as plt\n",
    "def displayEquations(LHS,RHS):\n",
    "    left = sp.latex(LHS)\n",
    "    right = sp.latex(RHS)\n",
    "    display(Math(left + '=' + right))"
   ]
  },
  {
   "cell_type": "code",
   "execution_count": 2,
   "metadata": {},
   "outputs": [
    {
     "data": {
      "text/latex": [
       "$\\displaystyle \\mathtt{\\text{u\\_1}}=- 100 \\sinh{\\left(\\alpha_{1} x \\right)} \\tanh{\\left(0.5 \\alpha_{1} \\right)} + 100 \\cosh{\\left(\\alpha_{1} x \\right)}$"
      ],
      "text/plain": [
       "<IPython.core.display.Math object>"
      ]
     },
     "metadata": {},
     "output_type": "display_data"
    },
    {
     "data": {
      "text/latex": [
       "$\\displaystyle \\mathtt{\\text{u\\_2}}=- \\frac{\\left(100 \\alpha_{2} \\sinh{\\left(0.5 \\alpha_{2} \\right)} - 200 \\pi h x \\cosh{\\left(0.5 \\alpha_{2} \\right)}\\right) \\sinh{\\left(\\alpha_{2} x \\right)}}{\\left(\\alpha_{2} \\cosh{\\left(0.5 \\alpha_{2} \\right)} - 2 \\pi h x \\sinh{\\left(0.5 \\alpha_{2} \\right)}\\right) \\cosh{\\left(0.5 \\alpha_{1} \\right)}} + \\frac{100 \\cosh{\\left(\\alpha_{2} x \\right)}}{\\cosh{\\left(0.5 \\alpha_{1} \\right)}}$"
      ],
      "text/plain": [
       "<IPython.core.display.Math object>"
      ]
     },
     "metadata": {},
     "output_type": "display_data"
    },
    {
     "data": {
      "text/latex": [
       "$\\displaystyle \\mathtt{\\text{A}}=- 100 \\tanh{\\left(0.5 \\alpha_{1} \\right)}$"
      ],
      "text/plain": [
       "<IPython.core.display.Math object>"
      ]
     },
     "metadata": {},
     "output_type": "display_data"
    },
    {
     "data": {
      "text/latex": [
       "$\\displaystyle \\mathtt{\\text{B}}=100$"
      ],
      "text/plain": [
       "<IPython.core.display.Math object>"
      ]
     },
     "metadata": {},
     "output_type": "display_data"
    },
    {
     "data": {
      "text/latex": [
       "$\\displaystyle \\mathtt{\\text{C}}=- \\frac{100 \\alpha_{2} \\sinh{\\left(0.5 \\alpha_{2} \\right)} - 200 \\pi h x \\cosh{\\left(0.5 \\alpha_{2} \\right)}}{\\left(\\alpha_{2} \\cosh{\\left(0.5 \\alpha_{2} \\right)} - 2 \\pi h x \\sinh{\\left(0.5 \\alpha_{2} \\right)}\\right) \\cosh{\\left(0.5 \\alpha_{1} \\right)}}$"
      ],
      "text/plain": [
       "<IPython.core.display.Math object>"
      ]
     },
     "metadata": {},
     "output_type": "display_data"
    },
    {
     "data": {
      "text/latex": [
       "$\\displaystyle \\mathtt{\\text{D}}=\\frac{100}{\\cosh{\\left(0.5 \\alpha_{1} \\right)}}$"
      ],
      "text/plain": [
       "<IPython.core.display.Math object>"
      ]
     },
     "metadata": {},
     "output_type": "display_data"
    }
   ],
   "source": [
    "#### Analytical solution ####\n",
    "# Governing equation\n",
    "A,B,C,D,alpha_1,alpha_2,x,h,L = symbols('A B C D alpha_1 alpha_2 x h L')\n",
    "u_1 = A*sinh(alpha_1*x) + B*cosh(alpha_1*x)\n",
    "u_2 = C*sinh(alpha_2*x) + D*cosh(alpha_2*x)\n",
    "P = 2*pi*x\n",
    "bc1 = u_1.subs(x,0) - 100\n",
    "bc2 = u_1.subs(x,1/2) - u_2.subs(x,0)\n",
    "bc3 = u_2.diff(x).subs(x,1/2) - h*P*u_2.subs({x:1/2})\n",
    "bc4 = u_1.diff(x).subs(x,1/2)  - h*P*(u_1.subs({x:1/2})-u_2.subs({x:0}))\n",
    "dof = sp.nonlinsolve([bc1,bc2,bc3,bc4],[A,B,C,D])\n",
    "(a_sol,b_sol,c_sol,d_sol) = next(iter(dof))\n",
    "u_1 = u_1.subs({A:a_sol,B:b_sol})\n",
    "u_2 = u_2.subs({C:c_sol,D:d_sol})\n",
    "displayEquations('u_1',u_1)\n",
    "displayEquations('u_2',u_2)\n",
    "displayEquations('A',a_sol)\n",
    "displayEquations('B',b_sol)\n",
    "displayEquations('C',c_sol.subs({P:2*pi*x}))\n",
    "displayEquations('D',d_sol.subs({P:2*pi*x}))"
   ]
  },
  {
   "cell_type": "code",
   "execution_count": 3,
   "metadata": {},
   "outputs": [
    {
     "name": "stdout",
     "output_type": "stream",
     "text": [
      "-(100*alpha_2*sinh(0.5*alpha_2) - 200*pi*h*x*cosh(0.5*alpha_2))*sinh(alpha_2*x)/((alpha_2*cosh(0.5*alpha_2) - 2*pi*h*x*sinh(0.5*alpha_2))*cosh(0.5*alpha_1)) + 100*cosh(alpha_2*x)/cosh(0.5*alpha_1)\n"
     ]
    }
   ],
   "source": [
    "print(u_2)"
   ]
  },
  {
   "cell_type": "code",
   "execution_count": 4,
   "metadata": {},
   "outputs": [
    {
     "data": {
      "image/png": "[encoded data removed]",
      "text/plain": [
       "<Figure size 640x480 with 1 Axes>"
      ]
     },
     "metadata": {},
     "output_type": "display_data"
    }
   ],
   "source": [
    "# Lets set alpha_1 = .2 and alpha_2 = .8, h = .5\n",
    "from numpy import cosh,sinh,pi,exp\n",
    "r = .1\n",
    "u_1_graph = lambdify((x,alpha_1),u_1)\n",
    "u_2_graph = lambdify((x, alpha_1, alpha_2, h), u_2)\n",
    "x1_test_np_values = np.linspace(0,.5*r,10)\n",
    "x2_test_np_values = np.linspace(.5*r,r,10)\n",
    "plt.plot(x1_test_np_values,u_1_graph(x1_test_np_values,.2))\n",
    "plt.plot(x2_test_np_values,u_2_graph(x1_test_np_values,.2,.8,.5))\n",
    "plt.show()"
   ]
  },
  {
   "cell_type": "code",
   "execution_count": 24,
   "metadata": {},
   "outputs": [
    {
     "data": {
      "text/latex": [
       "$\\displaystyle \\phi_{1}=\\left[\\begin{matrix}1 - \\frac{x}{L}\\\\\\frac{x}{L}\\end{matrix}\\right]$"
      ],
      "text/plain": [
       "<IPython.core.display.Math object>"
      ]
     },
     "metadata": {},
     "output_type": "display_data"
    },
    {
     "data": {
      "text/latex": [
       "$\\displaystyle \\phi_{2}=\\left[\\begin{matrix}1 - \\frac{3 x^{2}}{L^{2}} + \\frac{2 x^{3}}{L^{3}}\\\\x - \\frac{2 x^{2}}{L} + \\frac{x^{3}}{L^{2}}\\\\\\frac{3 x^{2}}{L^{2}} - \\frac{2 x^{3}}{L^{3}}\\\\- \\frac{x^{2}}{L} + \\frac{x^{3}}{L^{2}}\\end{matrix}\\right]$"
      ],
      "text/plain": [
       "<IPython.core.display.Math object>"
      ]
     },
     "metadata": {},
     "output_type": "display_data"
    },
    {
     "name": "stdout",
     "output_type": "stream",
     "text": [
      "Matrix([[12/h**3, 6/h**2, -12/h**3, 6/h**2], [6/h**2, 4/h, -6/h**2, 2/h], [-12/h**3, -6/h**2, 12/h**3, -6/h**2], [6/h**2, 2/h, -6/h**2, 4/h]])\n"
     ]
    },
    {
     "data": {
      "text/latex": [
       "$\\displaystyle \\phi_{3}=\\left[\\begin{matrix}1 - \\frac{10 x^{3}}{L^{3}} + \\frac{15 x^{4}}{L^{4}} - \\frac{6 x^{5}}{L^{5}}\\\\x - \\frac{6 x^{3}}{L^{2}} + \\frac{8 x^{4}}{L^{3}} - \\frac{3 x^{5}}{L^{4}}\\\\\\frac{x^{2}}{2} - \\frac{3 x^{3}}{2 L} + \\frac{3 x^{4}}{2 L^{2}} - \\frac{x^{5}}{2 L^{3}}\\\\\\frac{10 x^{3}}{L^{3}} - \\frac{15 x^{4}}{L^{4}} + \\frac{6 x^{5}}{L^{5}}\\\\- \\frac{4 x^{3}}{L^{2}} + \\frac{7 x^{4}}{L^{3}} - \\frac{3 x^{5}}{L^{4}}\\\\\\frac{x^{3}}{2 L} - \\frac{x^{4}}{L^{2}} + \\frac{x^{5}}{2 L^{3}}\\end{matrix}\\right]$"
      ],
      "text/plain": [
       "<IPython.core.display.Math object>"
      ]
     },
     "metadata": {},
     "output_type": "display_data"
    },
    {
     "data": {
      "text/latex": [
       "$\\displaystyle \\phi_{4}=\\left[\\begin{matrix}1 - \\frac{35 x^{4}}{L^{4}} + \\frac{84 x^{5}}{L^{5}} - \\frac{70 x^{6}}{L^{6}} + \\frac{20 x^{7}}{L^{7}}\\\\x - \\frac{20 x^{4}}{L^{3}} + \\frac{45 x^{5}}{L^{4}} - \\frac{36 x^{6}}{L^{5}} + \\frac{10 x^{7}}{L^{6}}\\\\\\frac{x^{2}}{2} - \\frac{5 x^{4}}{L^{2}} + \\frac{10 x^{5}}{L^{3}} - \\frac{15 x^{6}}{2 L^{4}} + \\frac{2 x^{7}}{L^{5}}\\\\\\frac{x^{3}}{6} - \\frac{2 x^{4}}{3 L} + \\frac{x^{5}}{L^{2}} - \\frac{2 x^{6}}{3 L^{3}} + \\frac{x^{7}}{6 L^{4}}\\\\\\frac{35 x^{4}}{L^{4}} - \\frac{84 x^{5}}{L^{5}} + \\frac{70 x^{6}}{L^{6}} - \\frac{20 x^{7}}{L^{7}}\\\\- \\frac{15 x^{4}}{L^{3}} + \\frac{39 x^{5}}{L^{4}} - \\frac{34 x^{6}}{L^{5}} + \\frac{10 x^{7}}{L^{6}}\\\\\\frac{5 x^{4}}{2 L^{2}} - \\frac{7 x^{5}}{L^{3}} + \\frac{13 x^{6}}{2 L^{4}} - \\frac{2 x^{7}}{L^{5}}\\\\- \\frac{x^{4}}{6 L} + \\frac{x^{5}}{2 L^{2}} - \\frac{x^{6}}{2 L^{3}} + \\frac{x^{7}}{6 L^{4}}\\end{matrix}\\right]$"
      ],
      "text/plain": [
       "<IPython.core.display.Math object>"
      ]
     },
     "metadata": {},
     "output_type": "display_data"
    }
   ],
   "source": [
    "#### FEM ####\n",
    "phi_1,phi_2,phi_3,phi_4 = symbols('phi_1,phi_2,phi_3,phi_4')\n",
    "#### Linear Interpolation Equation ####\n",
    "G = Matrix([1,x]).T\n",
    "#displayEquations('G',G)\n",
    "H = Matrix([[G.subs({x:0})],[G.subs({x:L})]])\n",
    "#displayEquations('H',H)\n",
    "q = G @ H.inv()\n",
    "displayEquations(phi_1,q.T)\n",
    "#### Cubic Interpolation Equation ####\n",
    "G = Matrix([1,x,x**2,x**3]).T\n",
    "H = Matrix([[G.subs({x:0})],[G.diff(x).subs({x:0})],[G.subs({x:L})],[G.diff(x).subs({x:L})]])\n",
    "#displayEquations('G',G)\n",
    "#displayEquations('H',H)\n",
    "q = G @ H.inv()\n",
    "displayEquations(phi_2,q.T)\n",
    "N = q # sp.integrate(q.diff(x,x)*q.diff(x,x).T,(x,0,L))\n",
    "N = Matrix([[1 - 3*x**2/L**2 + 2*x**3/L**3],[x - 2*x**2/L + x**3/L**2],[3*x**2/L**2 - 2*x**3/L**3],[-x**2/L + x**3/L**2]])\n",
    "K = sp.integrate(N.diff(x,x)*N.diff(x,x).T,(x,0,L)).subs({L:h})\n",
    "print(K)\n",
    "#### P = 3 ####\n",
    "G = Matrix([1,x,x**2,x**3,x**4,x**5]).T\n",
    "H = Matrix([[G.subs({x:0})],[G.diff(x).subs({x:0})],[G.diff(x,x).subs({x:0})],[G.subs({x:L})],[G.diff(x).subs({x:L})],[G.diff(x,x).subs({x:L})]])\n",
    "q = G @ H.inv()\n",
    "displayEquations(phi_3,q.T)\n",
    "#### P = 4 ####\n",
    "G = Matrix([1,x,x**2,x**3,x**4,x**5,x**6,x**7]).T\n",
    "H = Matrix([[G.subs({x:0})],[G.diff(x).subs({x:0})],[G.diff(x,x).subs({x:0})],[G.diff(x,x,x).subs({x:0})],[G.subs({x:L})],[G.diff(x).subs({x:L})],[G.diff(x,x).subs({x:L})],[G.diff(x,x,x).subs({x:L})]])\n",
    "q = G @ H.inv()\n",
    "displayEquations(phi_4,q.T)"
   ]
  },
  {
   "cell_type": "code",
   "execution_count": null,
   "metadata": {},
   "outputs": [],
   "source": [
    "#### Local fdm function #### \n",
    "def P(x):\n",
    "    return 2*np.pi*x\n",
    "def Local_Coeff_matrix(number_of_nodes,alpha):\n",
    "    i = number_of_nodes\n",
    "    delta_x = 1 / (i+1)\n",
    "    kap = 2 + alpha**2 * delta_x**2\n",
    "    kapppa_prime = 1 + h*P(x)*(2*delta_x + 1/3 * alpha**2 * delta_x**3)\\\n",
    "        + alpha**2 * delta_x**2\n",
    "    Coefficient_Matrix = np.zeros((i,i))\n",
    "    Coefficient_Matrix[i-1][i-2:i] = [kapppa_prime,-1]\n",
    "    Coefficient_Matrix[0][0:2] = [kap, -1]\n",
    "    for j in range(1,i-1):\n",
    "        Coefficient_Matrix[j][j-1:j+2] = [-1, kap, -1]\n",
    "    return Coefficient_Matrix"
   ]
  }
 ],
 "metadata": {
  "kernelspec": {
   "display_name": "base",
   "language": "python",
   "name": "python3"
  },
  "language_info": {
   "codemirror_mode": {
    "name": "ipython",
    "version": 3
   },
   "file_extension": ".py",
   "mimetype": "text/x-python",
   "name": "python",
   "nbconvert_exporter": "python",
   "pygments_lexer": "ipython3",
   "version": "3.11.2"
  },
  "orig_nbformat": 4
 },
 "nbformat": 4,
 "nbformat_minor": 2
}
