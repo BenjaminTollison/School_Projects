{
 "cells": [
  {
   "cell_type": "code",
   "execution_count": 20,
   "metadata": {},
   "outputs": [],
   "source": [
    "import sympy as sp\n",
    "from IPython.display import display, Math, Latex\n",
    "from sympy.solvers.solveset import linsolve\n",
    "from sympy import  lambdify, Matrix \n",
    "import numpy as np\n",
    "import matplotlib.pyplot as plt\n",
    "def displayEquations(LHS,RHS):\n",
    "    left = sp.latex(LHS)\n",
    "    right = sp.latex(RHS)\n",
    "    display(Math(left + '=' + right))\n",
    "def displayLatex(LHS,RHS):\n",
    "    left = sp.latex(LHS)\n",
    "    right = sp.latex(RHS)\n",
    "    display((left + '=' + right))"
   ]
  },
  {
   "cell_type": "code",
   "execution_count": 21,
   "metadata": {},
   "outputs": [
    {
     "data": {
      "text/latex": [
       "$\\displaystyle \\mathtt{\\text{E}}=\\left[ \\frac{\\sigma_{x} \\left(1 - \\nu^{2}\\right)}{\\nu \\varepsilon_{y} + \\varepsilon_{x}}\\right]$"
      ],
      "text/plain": [
       "<IPython.core.display.Math object>"
      ]
     },
     "metadata": {},
     "output_type": "display_data"
    },
    {
     "data": {
      "text/plain": [
       "'E=\\\\left[ \\\\frac{\\\\sigma_{x} \\\\left(1 - \\\\nu^{2}\\\\right)}{\\\\nu \\\\varepsilon_{y} + \\\\varepsilon_{x}}\\\\right]'"
      ]
     },
     "metadata": {},
     "output_type": "display_data"
    }
   ],
   "source": [
    "varepsilon_x,varepsilon_y,E,sigma_x,sigma_y,nu = sp.symbols('varepsilon_x,varepsilon_y,E,sigma_x,sigma_y,nu')\n",
    "eqn1 = (E / (1 - nu**2)) * (varepsilon_x + nu*varepsilon_y) - sigma_x\n",
    "E_eqn1 = sp.solve(eqn1, E)\n",
    "displayEquations('E',E_eqn1)\n",
    "displayLatex(E,E_eqn1)"
   ]
  },
  {
   "cell_type": "code",
   "execution_count": 22,
   "metadata": {},
   "outputs": [
    {
     "data": {
      "text/latex": [
       "$\\displaystyle \\nu=\\left[ \\frac{- E \\varepsilon_{y} - \\sqrt{E^{2} \\varepsilon_{y}^{2} - 4 E \\sigma_{x} \\varepsilon_{x} + 4 \\sigma_{x}^{2}}}{2 \\sigma_{x}}, \\  \\frac{- E \\varepsilon_{y} + \\sqrt{E^{2} \\varepsilon_{y}^{2} - 4 E \\sigma_{x} \\varepsilon_{x} + 4 \\sigma_{x}^{2}}}{2 \\sigma_{x}}\\right]$"
      ],
      "text/plain": [
       "<IPython.core.display.Math object>"
      ]
     },
     "metadata": {},
     "output_type": "display_data"
    },
    {
     "data": {
      "text/plain": [
       "'\\\\nu=\\\\left[ \\\\frac{- E \\\\varepsilon_{y} - \\\\sqrt{E^{2} \\\\varepsilon_{y}^{2} - 4 E \\\\sigma_{x} \\\\varepsilon_{x} + 4 \\\\sigma_{x}^{2}}}{2 \\\\sigma_{x}}, \\\\  \\\\frac{- E \\\\varepsilon_{y} + \\\\sqrt{E^{2} \\\\varepsilon_{y}^{2} - 4 E \\\\sigma_{x} \\\\varepsilon_{x} + 4 \\\\sigma_{x}^{2}}}{2 \\\\sigma_{x}}\\\\right]'"
      ]
     },
     "metadata": {},
     "output_type": "display_data"
    }
   ],
   "source": [
    "j = sp.solve(eqn1,nu)\n",
    "displayEquations(nu,j)\n",
    "displayLatex(nu,j)"
   ]
  },
  {
   "cell_type": "code",
   "execution_count": 30,
   "metadata": {},
   "outputs": [
    {
     "data": {
      "text/latex": [
       "$\\displaystyle \\nu=\\frac{\\sigma_{x}}{\\sigma_{y}}$"
      ],
      "text/plain": [
       "<IPython.core.display.Math object>"
      ]
     },
     "metadata": {},
     "output_type": "display_data"
    },
    {
     "data": {
      "text/latex": [
       "$\\displaystyle \\nu=\\frac{\\nu \\varepsilon_{y} + \\varepsilon_{x}}{\\nu \\varepsilon_{x} + \\varepsilon_{y}}$"
      ],
      "text/plain": [
       "<IPython.core.display.Math object>"
      ]
     },
     "metadata": {},
     "output_type": "display_data"
    },
    {
     "data": {
      "text/latex": [
       "$\\displaystyle \\nu=\\left[ - \\frac{\\varepsilon_{x}}{\\varepsilon_{y}}\\right]$"
      ],
      "text/plain": [
       "<IPython.core.display.Math object>"
      ]
     },
     "metadata": {},
     "output_type": "display_data"
    },
    {
     "data": {
      "text/plain": [
       "'\\\\nu=\\\\frac{\\\\sigma_{x}}{\\\\sigma_{y}}'"
      ]
     },
     "metadata": {},
     "output_type": "display_data"
    },
    {
     "data": {
      "text/plain": [
       "'\\\\nu=\\\\frac{\\\\nu \\\\varepsilon_{y} + \\\\varepsilon_{x}}{\\\\nu \\\\varepsilon_{x} + \\\\varepsilon_{y}}'"
      ]
     },
     "metadata": {},
     "output_type": "display_data"
    },
    {
     "data": {
      "text/plain": [
       "'\\\\nu=\\\\left[ - \\\\frac{\\\\varepsilon_{x}}{\\\\varepsilon_{y}}\\\\right]'"
      ]
     },
     "metadata": {},
     "output_type": "display_data"
    }
   ],
   "source": [
    "eqn2 = (E / (1 - nu**2)) * (varepsilon_y + nu*varepsilon_x) - sigma_y\n",
    "eqn3 = (eqn1+ sigma_x) / (eqn2 + sigma_y)\n",
    "k = sp.solve(eqn3,nu)\n",
    "displayEquations(nu,sigma_x/sigma_y)\n",
    "displayEquations(nu,eqn3)\n",
    "displayEquations(nu,k)\n",
    "displayLatex(nu,sigma_x/sigma_y)\n",
    "displayLatex(nu,eqn3)\n",
    "displayLatex(nu,k)"
   ]
  }
 ],
 "metadata": {
  "kernelspec": {
   "display_name": "Python 3 (ipykernel)",
   "language": "python",
   "name": "python3"
  },
  "language_info": {
   "codemirror_mode": {
    "name": "ipython",
    "version": 3
   },
   "file_extension": ".py",
   "mimetype": "text/x-python",
   "name": "python",
   "nbconvert_exporter": "python",
   "pygments_lexer": "ipython3",
   "version": "3.9.13"
  }
 },
 "nbformat": 4,
 "nbformat_minor": 2
}
