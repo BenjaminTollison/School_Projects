{
 "cells": [
  {
   "cell_type": "code",
   "execution_count": 2,
   "metadata": {},
   "outputs": [],
   "source": [
    "### Benjamin Tollison Hw6 ###\n",
    "import sympy as sp\n",
    "from IPython.display import display, Math, Latex\n",
    "from sympy.solvers.solveset import linsolve\n",
    "from sympy import atan, lambdify, Matrix,sin,cos, sinh, cosh, exp, pi, symbols, integrate\n",
    "import numpy as np\n",
    "import matplotlib.pyplot as plt\n",
    "def displayEquations(LHS,RHS):\n",
    "    left = sp.latex(LHS)\n",
    "    right = sp.latex(RHS)\n",
    "    display(Math(left + '=' + right))\n",
    "    np.set_printoptions(suppress=True)"
   ]
  },
  {
   "cell_type": "code",
   "execution_count": 25,
   "metadata": {},
   "outputs": [
    {
     "data": {
      "text/latex": [
       "$\\displaystyle \\mathtt{\\text{psi}}=\\frac{\\Lambda \\left(\\operatorname{atan}{\\left(\\frac{- H + y}{x} \\right)} + \\operatorname{atan}{\\left(\\frac{H + y}{x} \\right)}\\right)}{2 \\pi} + u_{infty} y$"
      ],
      "text/plain": [
       "<IPython.core.display.Math object>"
      ]
     },
     "metadata": {},
     "output_type": "display_data"
    },
    {
     "data": {
      "text/latex": [
       "$\\displaystyle \\mathtt{\\text{arctan\\_x}}=- \\frac{H + y}{x^{2} \\cdot \\left(1 + \\frac{\\left(H + y\\right)^{2}}{x^{2}}\\right)}$"
      ],
      "text/plain": [
       "<IPython.core.display.Math object>"
      ]
     },
     "metadata": {},
     "output_type": "display_data"
    },
    {
     "data": {
      "text/latex": [
       "$\\displaystyle \\mathtt{\\text{arctan\\_y}}=\\frac{1}{x \\left(1 + \\frac{\\left(H + y\\right)^{2}}{x^{2}}\\right)}$"
      ],
      "text/plain": [
       "<IPython.core.display.Math object>"
      ]
     },
     "metadata": {},
     "output_type": "display_data"
    },
    {
     "data": {
      "text/latex": [
       "$\\displaystyle \\mathtt{\\text{u}}=\\frac{\\Lambda \\left(\\frac{1}{x \\left(1 + \\frac{\\left(H + y\\right)^{2}}{x^{2}}\\right)} + \\frac{1}{x \\left(1 + \\frac{\\left(- H + y\\right)^{2}}{x^{2}}\\right)}\\right)}{2 \\pi} + u_{infty}$"
      ],
      "text/plain": [
       "<IPython.core.display.Math object>"
      ]
     },
     "metadata": {},
     "output_type": "display_data"
    },
    {
     "data": {
      "text/latex": [
       "$\\displaystyle \\mathtt{\\text{v}}=- \\frac{\\Lambda \\left(- \\frac{H + y}{x^{2} \\cdot \\left(1 + \\frac{\\left(H + y\\right)^{2}}{x^{2}}\\right)} - \\frac{- H + y}{x^{2} \\cdot \\left(1 + \\frac{\\left(- H + y\\right)^{2}}{x^{2}}\\right)}\\right)}{2 \\pi}$"
      ],
      "text/plain": [
       "<IPython.core.display.Math object>"
      ]
     },
     "metadata": {},
     "output_type": "display_data"
    },
    {
     "data": {
      "text/latex": [
       "$\\displaystyle \\mathtt{\\text{psi\\_stag}}=0$"
      ],
      "text/plain": [
       "<IPython.core.display.Math object>"
      ]
     },
     "metadata": {},
     "output_type": "display_data"
    },
    {
     "data": {
      "text/latex": [
       "$\\displaystyle \\mathtt{\\text{H\\_sol}}=\\left[ - \\frac{\\sqrt{- \\frac{x \\left(\\Lambda + \\pi u_{infty} x\\right)}{u_{infty}}}}{\\sqrt{\\pi}}, \\  \\frac{\\sqrt{- \\frac{x \\left(\\Lambda + \\pi u_{infty} x\\right)}{u_{infty}}}}{\\sqrt{\\pi}}\\right]$"
      ],
      "text/plain": [
       "<IPython.core.display.Math object>"
      ]
     },
     "metadata": {},
     "output_type": "display_data"
    },
    {
     "data": {
      "text/latex": [
       "$\\displaystyle \\mathtt{\\text{x\\_sol}}=\\left[ - \\frac{\\Lambda}{2 \\pi u_{infty}} - \\frac{\\sqrt{- \\left(2 \\pi H u_{infty} - \\Lambda\\right) \\left(2 \\pi H u_{infty} + \\Lambda\\right)}}{2 \\pi u_{infty}}, \\  - \\frac{\\Lambda}{2 \\pi u_{infty}} + \\frac{\\sqrt{- \\left(2 \\pi H u_{infty} - \\Lambda\\right) \\left(2 \\pi H u_{infty} + \\Lambda\\right)}}{2 \\pi u_{infty}}\\right]$"
      ],
      "text/plain": [
       "<IPython.core.display.Math object>"
      ]
     },
     "metadata": {},
     "output_type": "display_data"
    }
   ],
   "source": [
    "u_infty, y, Lambda, x, H = sp.symbols('u_infty, y, Lambda, x, H')\n",
    "psi = u_infty*y + (Lambda/(2*sp.pi)) * (sp.atan((y+H)/x) + sp.atan((y-H)/x))\n",
    "displayEquations('psi',psi)\n",
    "arctan_x = sp.atan((y+H)/x).diff(x)\n",
    "arctan_y = sp.atan((y+H)/x).diff(y)\n",
    "u = psi.diff(y)\n",
    "v = - psi.diff(x)\n",
    "displayEquations('arctan_x',arctan_x)\n",
    "displayEquations('arctan_y',arctan_y)\n",
    "displayEquations('u',u)\n",
    "displayEquations('v',v)\n",
    "psi_stag = psi.subs({y:0})\n",
    "displayEquations('psi_stag',psi_stag)"
   ]
  },
  {
   "cell_type": "code",
   "execution_count": 39,
   "metadata": {},
   "outputs": [
    {
     "data": {
      "text/latex": [
       "$\\displaystyle \\mathtt{\\text{x\\_sol}}=\\left[ - \\frac{\\Lambda}{8 \\pi u_{infty}} + \\frac{\\sqrt{- 4 H^{2} + \\frac{\\Lambda^{2}}{16 \\pi^{2} u_{infty}^{2}}}}{2}, \\  - \\frac{\\Lambda}{8 \\pi u_{infty}} - \\frac{\\sqrt{- 4 H^{2} + \\frac{\\Lambda^{2}}{16 \\pi^{2} u_{infty}^{2}}}}{2}\\right]$"
      ],
      "text/plain": [
       "<IPython.core.display.Math object>"
      ]
     },
     "metadata": {},
     "output_type": "display_data"
    },
    {
     "data": {
      "text/latex": [
       "$\\displaystyle \\mathtt{\\text{H\\_sol}}=\\left[ - \\frac{\\Lambda}{8 \\pi u_{infty}}, \\  \\frac{\\Lambda}{8 \\pi u_{infty}}\\right]$"
      ],
      "text/plain": [
       "<IPython.core.display.Math object>"
      ]
     },
     "metadata": {},
     "output_type": "display_data"
    },
    {
     "data": {
      "text/latex": [
       "$\\displaystyle \\mathtt{\\text{x\\_sol(H)}}=\\left[ - \\frac{\\Lambda}{8 \\pi u_{infty}}, \\  - \\frac{\\Lambda}{8 \\pi u_{infty}}\\right]$"
      ],
      "text/plain": [
       "<IPython.core.display.Math object>"
      ]
     },
     "metadata": {},
     "output_type": "display_data"
    }
   ],
   "source": [
    "# finding solutions\n",
    "u_0 = x**2 + (Lambda/(4*pi*u_infty))*x + H**2\n",
    "a = 1\n",
    "b = (Lambda/(4*pi*u_infty))\n",
    "c = H**2\n",
    "H_sol = sp.solve(b**2 - 4*a*c,H)\n",
    "x_sol = [(-b + sp.sqrt(b**2 - 4*a*c))/(2*a),(-b - sp.sqrt(b**2 - 4*a*c))/(2*a)]\n",
    "displayEquations('x_sol',x_sol)\n",
    "displayEquations('H_sol',H_sol)\n",
    "x_sol_H = [x_sol[0].subs({H:-Lambda/(8*pi*u_infty)}),x_sol[1].subs({H:Lambda/(8*pi*u_infty)})]\n",
    "displayEquations('x_sol(H)',x_sol_H)"
   ]
  },
  {
   "cell_type": "code",
   "execution_count": 54,
   "metadata": {},
   "outputs": [
    {
     "data": {
      "text/latex": [
       "$\\displaystyle \\mathtt{\\text{u\\_2H}}=\\frac{\\Lambda \\left(\\frac{1}{x \\left(1 + \\frac{\\left(\\frac{\\Lambda}{8 \\pi u_{infty}} + y\\right)^{2}}{x^{2}}\\right)} + \\frac{1}{x \\left(1 + \\frac{\\left(- \\frac{\\Lambda}{8 \\pi u_{infty}} + y\\right)^{2}}{x^{2}}\\right)}\\right)}{2 \\pi} + u_{infty}$"
      ],
      "text/plain": [
       "<IPython.core.display.Math object>"
      ]
     },
     "metadata": {},
     "output_type": "display_data"
    },
    {
     "data": {
      "text/latex": [
       "$\\displaystyle \\mathtt{\\text{v\\_2H}}=- \\frac{\\Lambda \\left(- \\frac{\\frac{\\Lambda}{8 \\pi u_{infty}} + y}{x^{2} \\cdot \\left(1 + \\frac{\\left(\\frac{\\Lambda}{8 \\pi u_{infty}} + y\\right)^{2}}{x^{2}}\\right)} - \\frac{- \\frac{\\Lambda}{8 \\pi u_{infty}} + y}{x^{2} \\cdot \\left(1 + \\frac{\\left(- \\frac{\\Lambda}{8 \\pi u_{infty}} + y\\right)^{2}}{x^{2}}\\right)}\\right)}{2 \\pi}$"
      ],
      "text/plain": [
       "<IPython.core.display.Math object>"
      ]
     },
     "metadata": {},
     "output_type": "display_data"
    },
    {
     "data": {
      "text/latex": [
       "$\\displaystyle \\mathtt{\\text{x}}=- \\frac{\\Lambda}{2 \\pi u_{infty}}$"
      ],
      "text/plain": [
       "<IPython.core.display.Math object>"
      ]
     },
     "metadata": {},
     "output_type": "display_data"
    },
    {
     "data": {
      "text/latex": [
       "$\\displaystyle \\mathtt{\\text{y}}=- \\frac{\\sqrt{15} \\sqrt{- \\Lambda^{2}}}{8 \\pi u_{infty}}$"
      ],
      "text/plain": [
       "<IPython.core.display.Math object>"
      ]
     },
     "metadata": {},
     "output_type": "display_data"
    }
   ],
   "source": [
    "# part c\n",
    "u_2H = psi.diff(y).subs({H:H_sol[1]})\n",
    "v_2H = - psi.diff(x).subs({H:H_sol[1]})\n",
    "displayEquations('u_2H', u_2H)\n",
    "displayEquations('v_2H',v_2H)\n",
    "dof = sp.solve([u_2H,v_2H],[x,y])\n",
    "(xsol_2H, ysol_2H) = next(iter(dof))\n",
    "displayEquations('x',xsol_2H)\n",
    "displayEquations('y',ysol_2H)"
   ]
  },
  {
   "cell_type": "code",
   "execution_count": 56,
   "metadata": {},
   "outputs": [
    {
     "data": {
      "text/latex": [
       "$\\displaystyle \\mathtt{\\text{u(x,0,2H)}}=\\frac{\\Lambda}{\\pi x \\left(\\frac{\\Lambda^{2}}{64 \\pi^{2} u_{infty}^{2} x^{2}} + 1\\right)} + u_{infty}$"
      ],
      "text/plain": [
       "<IPython.core.display.Math object>"
      ]
     },
     "metadata": {},
     "output_type": "display_data"
    },
    {
     "data": {
      "text/latex": [
       "$\\displaystyle \\mathtt{\\text{v(x,0,2H)}}=0$"
      ],
      "text/plain": [
       "<IPython.core.display.Math object>"
      ]
     },
     "metadata": {},
     "output_type": "display_data"
    }
   ],
   "source": [
    "u_2H_y_0 = u_2H.subs({y:0})\n",
    "v_2H_y_0 = v_2H.subs({y:0})\n",
    "displayEquations('u(x,0,2H)', u_2H_y_0)\n",
    "displayEquations('v(x,0,2H)', v_2H_y_0)"
   ]
  },
  {
   "cell_type": "code",
   "execution_count": 45,
   "metadata": {},
   "outputs": [
    {
     "data": {
      "text/latex": [
       "$\\displaystyle \\mathtt{\\text{psi\\_stag}}=0$"
      ],
      "text/plain": [
       "<IPython.core.display.Math object>"
      ]
     },
     "metadata": {},
     "output_type": "display_data"
    }
   ],
   "source": [
    "psi_stag = psi.subs({x:x_sol_H[0],y:0})\n",
    "displayEquations('psi_stag', psi_stag)"
   ]
  },
  {
   "cell_type": "code",
   "execution_count": 5,
   "metadata": {},
   "outputs": [
    {
     "data": {
      "text/latex": [
       "$\\displaystyle \\mathtt{\\text{u}}=\\frac{\\Gamma \\left(- \\frac{1}{\\left(1 + \\frac{\\left(\\frac{b}{2} + x\\right)^{2}}{\\left(H + y\\right)^{2}}\\right) \\left(H + y\\right)} + \\frac{1}{\\left(1 + \\frac{\\left(- \\frac{b}{2} + x\\right)^{2}}{\\left(H + y\\right)^{2}}\\right) \\left(H + y\\right)} + \\frac{1}{\\left(1 + \\frac{\\left(\\frac{b}{2} + x\\right)^{2}}{\\left(- H + y\\right)^{2}}\\right) \\left(- H + y\\right)} - \\frac{1}{\\left(1 + \\frac{\\left(- \\frac{b}{2} + x\\right)^{2}}{\\left(- H + y\\right)^{2}}\\right) \\left(- H + y\\right)}\\right)}{2 \\pi}$"
      ],
      "text/plain": [
       "<IPython.core.display.Math object>"
      ]
     },
     "metadata": {},
     "output_type": "display_data"
    },
    {
     "data": {
      "text/latex": [
       "$\\displaystyle \\mathtt{\\text{v}}=\\frac{\\Gamma \\left(\\frac{\\frac{b}{2} + x}{\\left(1 + \\frac{\\left(\\frac{b}{2} + x\\right)^{2}}{\\left(H + y\\right)^{2}}\\right) \\left(H + y\\right)^{2}} + \\frac{\\frac{b}{2} - x}{\\left(1 + \\frac{\\left(\\frac{b}{2} - x\\right)^{2}}{\\left(H + y\\right)^{2}}\\right) \\left(H + y\\right)^{2}} - \\frac{\\frac{b}{2} + x}{\\left(1 + \\frac{\\left(\\frac{b}{2} + x\\right)^{2}}{\\left(H - y\\right)^{2}}\\right) \\left(H - y\\right)^{2}} - \\frac{\\frac{b}{2} - x}{\\left(1 + \\frac{\\left(\\frac{b}{2} - x\\right)^{2}}{\\left(H - y\\right)^{2}}\\right) \\left(H - y\\right)^{2}}\\right)}{2 \\pi}$"
      ],
      "text/plain": [
       "<IPython.core.display.Math object>"
      ]
     },
     "metadata": {},
     "output_type": "display_data"
    },
    {
     "data": {
      "text/latex": [
       "$\\displaystyle \\mathtt{\\text{theta\\_total\\_dx}}=- \\frac{1}{\\left(1 + \\frac{\\left(\\frac{b}{2} + x\\right)^{2}}{\\left(H + y\\right)^{2}}\\right) \\left(H + y\\right)} + \\frac{1}{\\left(1 + \\frac{\\left(- \\frac{b}{2} + x\\right)^{2}}{\\left(H + y\\right)^{2}}\\right) \\left(H + y\\right)} + \\frac{1}{\\left(1 + \\frac{\\left(\\frac{b}{2} + x\\right)^{2}}{\\left(- H + y\\right)^{2}}\\right) \\left(- H + y\\right)} - \\frac{1}{\\left(1 + \\frac{\\left(- \\frac{b}{2} + x\\right)^{2}}{\\left(- H + y\\right)^{2}}\\right) \\left(- H + y\\right)}$"
      ],
      "text/plain": [
       "<IPython.core.display.Math object>"
      ]
     },
     "metadata": {},
     "output_type": "display_data"
    },
    {
     "data": {
      "text/latex": [
       "$\\displaystyle \\mathtt{\\text{theta\\_total\\_y}}=- \\frac{\\frac{b}{2} + x}{\\left(1 + \\frac{\\left(\\frac{b}{2} + x\\right)^{2}}{\\left(H + y\\right)^{2}}\\right) \\left(H + y\\right)^{2}} - \\frac{- \\frac{b}{2} + x}{\\left(1 + \\frac{\\left(- \\frac{b}{2} + x\\right)^{2}}{\\left(H + y\\right)^{2}}\\right) \\left(H + y\\right)^{2}} - \\frac{\\frac{b}{2} + x}{\\left(1 + \\frac{\\left(\\frac{b}{2} + x\\right)^{2}}{\\left(- H + y\\right)^{2}}\\right) \\left(- H + y\\right)^{2}} - \\frac{- \\frac{b}{2} + x}{\\left(1 + \\frac{\\left(- \\frac{b}{2} + x\\right)^{2}}{\\left(- H + y\\right)^{2}}\\right) \\left(- H + y\\right)^{2}}$"
      ],
      "text/plain": [
       "<IPython.core.display.Math object>"
      ]
     },
     "metadata": {},
     "output_type": "display_data"
    },
    {
     "data": {
      "text/latex": [
       "$\\displaystyle \\mathtt{\\text{v(x,0)}}=0$"
      ],
      "text/plain": [
       "<IPython.core.display.Math object>"
      ]
     },
     "metadata": {},
     "output_type": "display_data"
    }
   ],
   "source": [
    "#### Problem 4 ####\n",
    "x,y,H,b,Gamma = symbols('x y H b Gamma')\n",
    "theta_1 = atan((x+b/2)/(y-H))\n",
    "theta_2 = atan((x-b/2)/(y-H))\n",
    "theta_3 = atan((x+b/2)/(y+H))\n",
    "theta_4= atan((x-b/2)/(y+H))\n",
    "phi = (Gamma / (2*pi)) * (theta_1 - theta_2 - theta_3 + theta_4)\n",
    "u = phi.diff(x)\n",
    "v = phi.diff(y)\n",
    "displayEquations('u',u)\n",
    "displayEquations('v',v.simplify())\n",
    "theta_1_dy = theta_1.diff(y)\n",
    "theta_2_dy = theta_2.diff(y)\n",
    "theta_3_dy = theta_3.diff(y)\n",
    "theta_4_dy = theta_4.diff(y)\n",
    "theta_total_dx = (theta_1 + theta_4 - theta_2 - theta_3).diff(x)\n",
    "theta_total_y = (theta_1_dy + theta_2_dy + theta_3_dy + theta_4_dy)\n",
    "displayEquations('theta_total_dx',theta_total_dx)\n",
    "displayEquations('theta_total_y',theta_total_y)\n",
    "displayEquations('v(x,0)',v.subs({y:0}))"
   ]
  },
  {
   "cell_type": "code",
   "execution_count": 6,
   "metadata": {},
   "outputs": [
    {
     "data": {
      "text/latex": [
       "$\\displaystyle \\mathtt{\\text{u(x,H)}}=\\frac{\\Gamma \\left(\\frac{\\tilde{\\infty}}{\\tilde{\\infty} \\left(\\frac{b}{2} + x\\right)^{2} + 1} + \\frac{\\tilde{\\infty}}{\\tilde{\\infty} \\left(- \\frac{b}{2} + x\\right)^{2} + 1} - \\frac{1}{2 H \\left(1 + \\frac{\\left(\\frac{b}{2} + x\\right)^{2}}{4 H^{2}}\\right)} + \\frac{1}{2 H \\left(1 + \\frac{\\left(- \\frac{b}{2} + x\\right)^{2}}{4 H^{2}}\\right)}\\right)}{2 \\pi}$"
      ],
      "text/plain": [
       "<IPython.core.display.Math object>"
      ]
     },
     "metadata": {},
     "output_type": "display_data"
    },
    {
     "data": {
      "text/latex": [
       "$\\displaystyle \\mathtt{\\text{v(x,H)}}=\\frac{\\Gamma \\left(\\frac{\\tilde{\\infty} \\left(- \\frac{b}{2} + x\\right)}{\\tilde{\\infty} \\left(- \\frac{b}{2} + x\\right)^{2} + 1} + \\frac{\\tilde{\\infty} \\left(\\frac{b}{2} + x\\right)}{\\tilde{\\infty} \\left(\\frac{b}{2} + x\\right)^{2} + 1} + \\frac{\\frac{b}{2} + x}{4 H^{2} \\cdot \\left(1 + \\frac{\\left(\\frac{b}{2} + x\\right)^{2}}{4 H^{2}}\\right)} - \\frac{- \\frac{b}{2} + x}{4 H^{2} \\cdot \\left(1 + \\frac{\\left(- \\frac{b}{2} + x\\right)^{2}}{4 H^{2}}\\right)}\\right)}{2 \\pi}$"
      ],
      "text/plain": [
       "<IPython.core.display.Math object>"
      ]
     },
     "metadata": {},
     "output_type": "display_data"
    }
   ],
   "source": [
    "u_h = u.subs({y:H})\n",
    "v_h = v.subs({y:H})\n",
    "displayEquations('u(x,H)',u_h)\n",
    "displayEquations('v(x,H)',v_h)"
   ]
  }
 ],
 "metadata": {
  "kernelspec": {
   "display_name": "Python 3 (ipykernel)",
   "language": "python",
   "name": "python3"
  },
  "language_info": {
   "codemirror_mode": {
    "name": "ipython",
    "version": 3
   },
   "file_extension": ".py",
   "mimetype": "text/x-python",
   "name": "python",
   "nbconvert_exporter": "python",
   "pygments_lexer": "ipython3",
   "version": "3.9.13"
  }
 },
 "nbformat": 4,
 "nbformat_minor": 2
}
