{
 "cells": [
  {
   "cell_type": "code",
   "execution_count": 36,
   "metadata": {},
   "outputs": [],
   "source": [
    "### Benjamin Tollison Hw8 ###\n",
    "import sympy as sp\n",
    "from IPython.display import display, Math, Latex\n",
    "from sympy.solvers.solveset import linsolve\n",
    "from sympy import  lambdify, Matrix,sin,cos, sinh, cosh, exp, pi, symbols, integrate\n",
    "import numpy as np\n",
    "import matplotlib.pyplot as plt\n",
    "def displayEquations(LHS,RHS):\n",
    "    left = sp.latex(LHS)\n",
    "    right = sp.latex(RHS)\n",
    "    display(Math(left + '=' + right))\n",
    "    np.set_printoptions(suppress=True)"
   ]
  },
  {
   "cell_type": "code",
   "execution_count": 37,
   "metadata": {},
   "outputs": [
    {
     "name": "stdout",
     "output_type": "stream",
     "text": [
      "[alpha + 0.133333333333333*c/pi]\n",
      "[0.0426666666666667*c/pi]\n",
      "[0.154311111111111*c/pi]\n"
     ]
    }
   ],
   "source": [
    "alpha,theta,c,u = symbols('alpha theta c u_\\infty')\n",
    "Dz_1 = c/10 * sin(theta)\n",
    "Dz_2 = -c/15 * sin(theta)\n",
    "Dz_3 = c/30 * sin(theta)\n",
    "theta_a = sp.acos(3/5)\n",
    "theta_b = sp.acos(-3/5)\n",
    "theta_c = pi\n",
    "A_0 = alpha - (1/pi * (integrate(Dz_1, (theta, 0, theta_a)) + integrate(Dz_2, (theta, theta_a, theta_c)) + integrate(Dz_3, (theta, theta_c, 2*pi))))\n",
    "def A_n(n):\n",
    "    return 2/pi * (integrate(Dz_1 * cos(n*theta), (theta, 0, theta_a)) + integrate(Dz_2 * cos(n*theta), (theta, theta_a, theta_b)) + integrate(Dz_3 * cos(n*theta), (theta, theta_b,pi)))\n",
    "coeffecients = [A_0, A_n(1), A_n(2)]\n",
    "for i in coeffecients:\n",
    "    print('[{}]'.format(i))"
   ]
  },
  {
   "cell_type": "code",
   "execution_count": 38,
   "metadata": {},
   "outputs": [
    {
     "data": {
      "text/latex": [
       "$\\displaystyle \\mathtt{\\text{c\\_l}}=2.0 \\pi \\alpha + 0.309333333333333 c$"
      ],
      "text/plain": [
       "<IPython.core.display.Math object>"
      ]
     },
     "metadata": {},
     "output_type": "display_data"
    },
    {
     "data": {
      "text/latex": [
       "$\\displaystyle \\mathtt{\\text{c\\_m\\_quarter\\_cord}}=0.0279111111111111 c$"
      ],
      "text/plain": [
       "<IPython.core.display.Math object>"
      ]
     },
     "metadata": {},
     "output_type": "display_data"
    },
    {
     "data": {
      "text/latex": [
       "$\\displaystyle \\mathtt{\\text{c\\_m\\_quarter\\_part2}}=0.0279111111111111 c$"
      ],
      "text/plain": [
       "<IPython.core.display.Math object>"
      ]
     },
     "metadata": {},
     "output_type": "display_data"
    }
   ],
   "source": [
    "A_1,A_2 = A_n(1),A_n(2)\n",
    "gamma = 2*u*(A_0 * ((1+cos(theta))/sin(theta)) + A_1 * sin(theta) + A_2 * sin(2*theta))\n",
    "x = c/2 * (1-cos(theta))\n",
    "dx = x.diff(theta)\n",
    "c_l = 1/u * integrate(gamma * sin(theta),(theta,0,pi))\n",
    "displayEquations('c_l',c_l)\n",
    "c_m_quarter_cord = -2/(u*c**2) * integrate((x-c/4)*gamma*dx,(theta,0,pi))\n",
    "displayEquations('c_m_quarter_cord',c_m_quarter_cord)\n",
    "c_m_LE = -2/(u*c**2) * integrate((x)*gamma*dx,(theta,0,pi))\n",
    "# displayEquations('c_m_LE',c_m_LE)\n",
    "#c_m_LE = -pi/2 * (A_0 + A_1 - A_2/2)\n",
    "c_m_quarter_part2 = c_m_LE + c_l/4\n",
    "displayEquations('c_m_quarter_part2',c_m_quarter_part2)\n",
    "# print(c_m_quarter_cord.subs({alpha:2,c:3,u:4}),c_m_quarter_part2.subs({alpha:2,c:3,u:4}))\n"
   ]
  },
  {
   "cell_type": "code",
   "execution_count": 39,
   "metadata": {},
   "outputs": [
    {
     "data": {
      "text/latex": [
       "$\\displaystyle \\mathtt{\\text{A\\_0}}=\\alpha - \\frac{C_{1} \\left(- C_{2} L + C_{3} + L^{2}\\right) \\operatorname{acos}{\\left(1 - 2 L \\right)} + C_{4} \\operatorname{acos}{\\left(1 - 2 L \\right)} - \\pi C_{4}}{\\pi}$"
      ],
      "text/plain": [
       "<IPython.core.display.Math object>"
      ]
     },
     "metadata": {},
     "output_type": "display_data"
    },
    {
     "data": {
      "text/latex": [
       "$\\displaystyle \\mathtt{\\text{A\\_1}}=\\frac{2 \\left(C_{1} \\sqrt{1 - \\left(1 - 2 L\\right)^{2}} \\left(- C_{2} L + C_{3} + L^{2}\\right) + C_{4} \\sqrt{1 - \\left(1 - 2 L\\right)^{2}}\\right)}{\\pi}$"
      ],
      "text/plain": [
       "<IPython.core.display.Math object>"
      ]
     },
     "metadata": {},
     "output_type": "display_data"
    },
    {
     "data": {
      "text/latex": [
       "$\\displaystyle \\mathtt{\\text{A\\_2}}=\\frac{2 \\left(\\frac{C_{1} \\left(- C_{2} L + C_{3} + L^{2}\\right) \\sin{\\left(2 \\operatorname{acos}{\\left(1 - 2 L \\right)} \\right)}}{2} + \\frac{C_{4} \\sin{\\left(2 \\operatorname{acos}{\\left(1 - 2 L \\right)} \\right)}}{2}\\right)}{\\pi}$"
      ],
      "text/plain": [
       "<IPython.core.display.Math object>"
      ]
     },
     "metadata": {},
     "output_type": "display_data"
    },
    {
     "data": {
      "text/latex": [
       "$\\displaystyle \\mathtt{\\text{A\\_0}}=\\alpha - \\frac{0.101794053367704 - 0.022083 \\pi}{\\pi}$"
      ],
      "text/plain": [
       "<IPython.core.display.Math object>"
      ]
     },
     "metadata": {},
     "output_type": "display_data"
    },
    {
     "data": {
      "text/latex": [
       "$\\displaystyle \\mathtt{\\text{A\\_1}}=\\frac{0.175279717454084}{\\pi}$"
      ],
      "text/plain": [
       "<IPython.core.display.Math object>"
      ]
     },
     "metadata": {},
     "output_type": "display_data"
    },
    {
     "data": {
      "text/latex": [
       "$\\displaystyle \\mathtt{\\text{A\\_2}}=\\frac{0.10429143188518}{\\pi}$"
      ],
      "text/plain": [
       "<IPython.core.display.Math object>"
      ]
     },
     "metadata": {},
     "output_type": "display_data"
    },
    {
     "data": {
      "text/latex": [
       "$\\displaystyle \\mathtt{\\text{c\\_l}}=2 \\pi \\alpha - 0.0283083892813235 + 0.044166 \\pi$"
      ],
      "text/plain": [
       "<IPython.core.display.Math object>"
      ]
     },
     "metadata": {},
     "output_type": "display_data"
    },
    {
     "data": {
      "text/latex": [
       "$\\displaystyle \\mathtt{\\text{c\\_l\\_0}}=0.110443191857123$"
      ],
      "text/plain": [
       "<IPython.core.display.Math object>"
      ]
     },
     "metadata": {},
     "output_type": "display_data"
    },
    {
     "data": {
      "text/latex": [
       "$\\displaystyle \\mathtt{\\text{alpha}}=0.0301689030126609$"
      ],
      "text/plain": [
       "<IPython.core.display.Math object>"
      ]
     },
     "metadata": {},
     "output_type": "display_data"
    },
    {
     "data": {
      "text/latex": [
       "$\\displaystyle \\mathtt{\\text{alpha}}=1.72855081516499$"
      ],
      "text/plain": [
       "<IPython.core.display.Math object>"
      ]
     },
     "metadata": {},
     "output_type": "display_data"
    }
   ],
   "source": [
    "# Problem 4\n",
    "C_1, C_2, C_3, C_4, L, rho= symbols('C_1 C_2 C_3 C_4 L rho')\n",
    "A_0 = alpha - 1/pi * (integrate(C_1*(L**2 - C_2*L + C_3), (theta, 0, sp.acos(1-2*L))) + integrate(-C_4, (theta, sp.acos(1-2*L),pi)))\n",
    "def An(n):\n",
    "    A = 2/pi * (integrate(C_1*(L**2 - C_2*L + C_3)*cos(n*theta), (theta, 0, sp.acos(1-2*L))) + integrate(-C_4*cos(n*theta), (theta, sp.acos(1-2*L),pi)))\n",
    "    return A\n",
    "A_1 = An(1)\n",
    "A_2 = An(2)\n",
    "displayEquations('A_0', A_0)\n",
    "displayEquations('A_1', A_1)\n",
    "displayEquations('A_2', A_2)\n",
    "A_0 = A_0.subs({C_1:2.6595,C_2:0.6075,C_3:0.11471,C_4:0.022083,L:0.2025})\n",
    "A_1 = A_1.subs({C_1:2.6595,C_2:0.6075,C_3:0.11471,C_4:0.022083,L:0.2025})\n",
    "A_2 = A_2.subs({C_1:2.6595,C_2:0.6075,C_3:0.11471,C_4:0.022083,L:0.2025})\n",
    "displayEquations('A_0', A_0)\n",
    "displayEquations('A_1', A_1)\n",
    "displayEquations('A_2', A_2)\n",
    "c_l = 2*pi*A_0 + A_1*pi\n",
    "displayEquations('c_l', c_l.simplify())\n",
    "c_l_0 = c_l.subs({alpha:0,pi:np.pi})\n",
    "displayEquations('c_l_0', c_l_0.simplify())\n",
    "eqn1 = c_l - 0.3\n",
    "a_sol = sp.solve(eqn1, alpha)\n",
    "a_sol_degrees = a_sol[0] * 180/np.pi\n",
    "displayEquations('alpha', a_sol[0])\n",
    "displayEquations('alpha', a_sol_degrees)"
   ]
  },
  {
   "cell_type": "code",
   "execution_count": 67,
   "metadata": {},
   "outputs": [
    {
     "data": {
      "text/latex": [
       "$\\displaystyle -0.017747071392226=-0.017747071392226$"
      ],
      "text/plain": [
       "<IPython.core.display.Math object>"
      ]
     },
     "metadata": {},
     "output_type": "display_data"
    },
    {
     "data": {
      "text/latex": [
       "$\\displaystyle \\mathtt{\\text{x/c}}=\\frac{\\alpha + 0.0288757164648179}{4 \\alpha + 0.070310319659631}$"
      ],
      "text/plain": [
       "<IPython.core.display.Math object>"
      ]
     },
     "metadata": {},
     "output_type": "display_data"
    },
    {
     "data": {
      "image/png": "[encoded data removed]",
      "text/plain": [
       "<Figure size 640x480 with 1 Axes>"
      ]
     },
     "metadata": {},
     "output_type": "display_data"
    }
   ],
   "source": [
    "# 7d\n",
    "x = symbols('x')\n",
    "c_mc4 = pi/4 * (A_2 - A_1)\n",
    "x = c/2 * (1-cos(theta))\n",
    "dx = x.diff(theta)\n",
    "gamma_x = 2*u*(A_0*((1+cos(theta))/sin(theta)) + A_1*sin(theta) + A_2*sin(2*theta))\n",
    "c_m_c4 = -2/(u*c**2) * integrate((x-c/4)*gamma_x*dx,(theta,0,pi))\n",
    "displayEquations(c_mc4, c_m_c4)\n",
    "x_zero_pitch_moment = (A_0 + A_1 - A_2/2)/(4*A_0 + 2*A_1)\n",
    "displayEquations('x/c', x_zero_pitch_moment.subs({pi:np.pi}))\n",
    "# graphing zero pitch moment\n",
    "zero_pitch = lambdify(alpha, x_zero_pitch_moment)\n",
    "a = -0.5\n",
    "b = 0.5\n",
    "alpha_values = np.linspace(a, b, 100)\n",
    "plt.plot(alpha_values, zero_pitch(alpha_values),label='zero pitch moment')\n",
    "plt.hlines(.25,a,b,linestyle='dashed',color='r',label='~quarter cord moment')\n",
    "plt.vlines(-.07031031965/4,-.1,1.5,linestyle='dashed',color='orange',label='x/c->infty')\n",
    "plt.legend()\n",
    "plt.xlabel('alpha')\n",
    "plt.ylabel('x/c')\n",
    "plt.show()"
   ]
  }
 ],
 "metadata": {
  "kernelspec": {
   "display_name": "Python 3",
   "language": "python",
   "name": "python3"
  },
  "language_info": {
   "codemirror_mode": {
    "name": "ipython",
    "version": 3
   },
   "file_extension": ".py",
   "mimetype": "text/x-python",
   "name": "python",
   "nbconvert_exporter": "python",
   "pygments_lexer": "ipython3",
   "version": "3.11.2"
  },
  "orig_nbformat": 4
 },
 "nbformat": 4,
 "nbformat_minor": 2
}
