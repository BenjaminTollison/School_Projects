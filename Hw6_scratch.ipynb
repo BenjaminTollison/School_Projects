{
 "cells": [
  {
   "cell_type": "code",
   "execution_count": 2,
   "metadata": {},
   "outputs": [],
   "source": [
    "### Benjamin Tollison Hw6 ###\n",
    "import sympy as sp\n",
    "from IPython.display import display, Math, Latex\n",
    "from sympy.solvers.solveset import linsolve\n",
    "from sympy import  lambdify, Matrix,sin,cos, sinh, cosh, exp, pi, symbols, integrate\n",
    "import numpy as np\n",
    "import matplotlib.pyplot as plt\n",
    "def displayEquations(LHS,RHS):\n",
    "    left = sp.latex(LHS)\n",
    "    right = sp.latex(RHS)\n",
    "    display(Math(left + '=' + right))\n",
    "    np.set_printoptions(suppress=True)"
   ]
  },
  {
   "cell_type": "code",
   "execution_count": 3,
   "metadata": {},
   "outputs": [
    {
     "data": {
      "text/latex": [
       "$\\displaystyle \\mathtt{\\text{F\\_element}}=\\left[\\begin{matrix}0.5 A g h \\rho \\sin{\\left(\\theta \\right)}\\\\0.5 A g h \\rho \\cos{\\left(\\theta \\right)}\\\\0.5 A g h \\rho \\sin{\\left(\\theta \\right)}\\\\0.5 A g h \\rho \\cos{\\left(\\theta \\right)}\\end{matrix}\\right]$"
      ],
      "text/plain": [
       "<IPython.core.display.Math object>"
      ]
     },
     "metadata": {},
     "output_type": "display_data"
    }
   ],
   "source": [
    "x,h,rho,g,A,theta = symbols('x h rho g A theta')\n",
    "c = cos(theta)\n",
    "s = sin(theta)\n",
    "T = Matrix([[c,s,0,0],[-s,c,0,0],[0,0,c,s],[0,0,-s,c]])\n",
    "F_global = Matrix([0,(1/2)*rho*g*A*h,0,(1/2)*rho*g*A*h])\n",
    "F_element = T @ F_global\n",
    "displayEquations('F_element',F_element)"
   ]
  },
  {
   "cell_type": "code",
   "execution_count": 27,
   "metadata": {},
   "outputs": [
    {
     "name": "stdout",
     "output_type": "stream",
     "text": [
      "[-0.0]\n",
      "[0.0]\n",
      "[0.00219]\n",
      "[0.000845]\n",
      "[0.0]\n",
      "[0.0]\n"
     ]
    }
   ],
   "source": [
    "#### Problem 4 ####\n",
    "    # element 1\n",
    "rho = 0.3\n",
    "def K_local(index):\n",
    "    if index == [1,2]:\n",
    "        E = 10**7\n",
    "        delta_x = 100\n",
    "        delta_y = 100\n",
    "    elif index == [3,2]:\n",
    "        E = 3*10**7\n",
    "        delta_x = -100\n",
    "        delta_y = 100\n",
    "    A = 2\n",
    "    L = np.sqrt(delta_x**2 + delta_y**2)\n",
    "    c = delta_x/L\n",
    "    s = delta_y/L\n",
    "    K = E*A/L * np.array([[c*c,c*s,-c*c,-c*s],[c*s,s*s,-c*s,-s*s],[-c*c,-c*s,c*c,c*s],[-c*s,-s*s,c*s,s*s]])\n",
    "    return K\n",
    "def f_gravity_local(index):\n",
    "    if index == [1,2]:\n",
    "        delta_x = 100\n",
    "        delta_y = 100\n",
    "    elif index == [3,2]:\n",
    "        delta_x = -100\n",
    "        delta_y = 100\n",
    "    A = 2\n",
    "    rho = 0.3\n",
    "    L = np.sqrt(delta_x**2 + delta_y**2)\n",
    "    g = 9.81\n",
    "    c = delta_x/L\n",
    "    s = delta_y/L\n",
    "    f = -0.5*A*g*L*rho * np.array([s,c,s,c])\n",
    "    return f\n",
    "# K_1 = K_local([1,2])\n",
    "# K_2 = K_local([3,2])\n",
    "# f_gravity1 = f_gravity_local([1,2])\n",
    "# f_gravity2 = f_gravity_local([3,2])\n",
    "gravity_global = np.array([0,-0.5*np.sqrt(2*100**2),0,-0.5*np.sqrt(2*100**2),0,-0.5*np.sqrt(2*100**2)])\n",
    "F_loads = np.array([0,0,500,0,0,0])\n",
    "def global_K(connectivity):\n",
    "    K = np.zeros((6,6))\n",
    "    for i in connectivity:\n",
    "        K[i[0]*2-2][i[0]*2-2] += K_local(i)[0][0]\n",
    "        K[i[0]*2-2][i[0]*2-2+1] += K_local(i)[0][1]\n",
    "        K[i[0]*2-2][i[1]*2-2] += K_local(i)[0][2]\n",
    "        K[i[0]*2-2][i[1]*2-2+1] += K_local(i)[0][3]\n",
    "        \n",
    "        K[i[0]*2-2+1][i[0]*2-2] += K_local(i)[1][0]\n",
    "        K[i[0]*2-2+1][i[0]*2-2+1] += K_local(i)[1][1]\n",
    "        K[i[0]*2-2+1][i[1]*2-2] += K_local(i)[1][2]\n",
    "        K[i[0]*2-2+1][i[1]*2-2+1] += K_local(i)[1][3]\n",
    "        \n",
    "        K[i[1]*2-2][i[0]*2-2] += K_local(i)[2][0]\n",
    "        K[i[1]*2-2][i[0]*2-2+1] += K_local(i)[2][1]\n",
    "        K[i[1]*2-2][i[1]*2-2] += K_local(i)[2][2]\n",
    "        K[i[1]*2-2][i[1]*2-2+1] += K_local(i)[2][3]\n",
    "        \n",
    "        K[i[1]*2-2+1][i[0]*2-2] += K_local(i)[3][0]\n",
    "        K[i[1]*2-2+1][i[0]*2-2+1] += K_local(i)[3][1]\n",
    "        K[i[1]*2-2+1][i[1]*2-2] += K_local(i)[3][2]\n",
    "        K[i[1]*2-2+1][i[1]*2-2+1] += K_local(i)[3][3]\n",
    "    return K\n",
    "node_connections = [[1,2],[3,2]]\n",
    "K = global_K(node_connections)\n",
    "F_eq = gravity_global+ F_loads\n",
    "# imposing kinematic constraints\n",
    "dof_zeros = [0,1,4,5]\n",
    "for i in dof_zeros:\n",
    "    K[i][:] = 0\n",
    "    K[:][i] = 0\n",
    "    K[i][i] = 1\n",
    "    F_eq[i] = 0\n",
    "dof_global = np.linalg.inv(K) @ F_eq\n",
    "# part a\n",
    "for i in dof_global:\n",
    "    print(\"[{}]\".format(round(i,6)))"
   ]
  },
  {
   "cell_type": "code",
   "execution_count": 28,
   "metadata": {},
   "outputs": [
    {
     "name": "stdout",
     "output_type": "stream",
     "text": [
      "[-214.644661]\n",
      "[-143.933983]\n",
      "[0.0]\n",
      "[0.0]\n",
      "[-285.355339]\n",
      "[356.066017]\n"
     ]
    }
   ],
   "source": [
    "# part b\n",
    "K_vc = global_K(node_connections)\n",
    "q = dof_global\n",
    "Feq = gravity_global + F_loads\n",
    "F_bc = K_vc@q - Feq\n",
    "for i in F_bc:\n",
    "    print(\"[{}]\".format(round(i,6)))"
   ]
  },
  {
   "cell_type": "code",
   "execution_count": 44,
   "metadata": {},
   "outputs": [
    {
     "data": {
      "text/latex": [
       "$\\displaystyle \\mathtt{\\text{simga\\_xx1}}=-126.776695296637$"
      ],
      "text/plain": [
       "<IPython.core.display.Math object>"
      ]
     },
     "metadata": {},
     "output_type": "display_data"
    },
    {
     "data": {
      "text/latex": [
       "$\\displaystyle \\mathtt{\\text{simga\\_xy1}}=25.0$"
      ],
      "text/plain": [
       "<IPython.core.display.Math object>"
      ]
     },
     "metadata": {},
     "output_type": "display_data"
    },
    {
     "data": {
      "text/latex": [
       "$\\displaystyle \\mathtt{\\text{sigma\\_xx2}}=226.776695296637$"
      ],
      "text/plain": [
       "<IPython.core.display.Math object>"
      ]
     },
     "metadata": {},
     "output_type": "display_data"
    },
    {
     "data": {
      "text/latex": [
       "$\\displaystyle \\mathtt{\\text{sigma\\_xy2}}=-25.0$"
      ],
      "text/plain": [
       "<IPython.core.display.Math object>"
      ]
     },
     "metadata": {},
     "output_type": "display_data"
    }
   ],
   "source": [
    "# part c\n",
    "A = 2\n",
    "simga_xx1 = 0.5*(1/np.sqrt(2) * F_bc[0] + 1/np.sqrt(2) * F_bc[1])\n",
    "simga_xy1 = 0.5*(-1/np.sqrt(2) * F_bc[0] + 1/np.sqrt(2) * F_bc[1])\n",
    "displayEquations('simga_xx1', simga_xx1)\n",
    "displayEquations('simga_xy1', simga_xy1)\n",
    "sigma_xx2 = (1/(2*np.sqrt(2))) * (-F_bc[4] + F_bc[5])\n",
    "sigma_xy2 = (1/(2*np.sqrt(2))) * (-F_bc[4] - F_bc[5])\n",
    "displayEquations('sigma_xx2', sigma_xx2)\n",
    "displayEquations('sigma_xy2', sigma_xy2)"
   ]
  },
  {
   "cell_type": "code",
   "execution_count": 50,
   "metadata": {},
   "outputs": [
    {
     "data": {
      "text/latex": [
       "$\\displaystyle \\mathtt{\\text{du}}=0.00214644660940673$"
      ],
      "text/plain": [
       "<IPython.core.display.Math object>"
      ]
     },
     "metadata": {},
     "output_type": "display_data"
    },
    {
     "data": {
      "text/latex": [
       "$\\displaystyle \\mathtt{\\text{du}}=-0.000951184463531092$"
      ],
      "text/plain": [
       "<IPython.core.display.Math object>"
      ]
     },
     "metadata": {},
     "output_type": "display_data"
    }
   ],
   "source": [
    "# part d\n",
    "du_1 = (1/np.sqrt(2))*(dof_global[2]+dof_global[3])\n",
    "displayEquations('du',du_1)\n",
    "du_2 = -1/np.sqrt(2)*(dof_global[2]-dof_global[3])\n",
    "displayEquations('du',du_2)"
   ]
  },
  {
   "cell_type": "code",
   "execution_count": 36,
   "metadata": {},
   "outputs": [
    {
     "data": {
      "text/latex": [
       "$\\displaystyle \\mathtt{\\text{F\\_axial}}=\\left[\\begin{matrix}\\frac{L^{3} P \\omega^{2}}{6 g}\\\\\\frac{L^{3} P \\omega^{2}}{3 g}\\end{matrix}\\right]$"
      ],
      "text/plain": [
       "<IPython.core.display.Math object>"
      ]
     },
     "metadata": {},
     "output_type": "display_data"
    },
    {
     "data": {
      "text/latex": [
       "$\\displaystyle \\mathtt{\\text{F\\_normal}}=\\left[\\begin{matrix}\\frac{L P}{2}\\\\\\frac{L P}{2}\\end{matrix}\\right]$"
      ],
      "text/plain": [
       "<IPython.core.display.Math object>"
      ]
     },
     "metadata": {},
     "output_type": "display_data"
    },
    {
     "data": {
      "text/latex": [
       "$\\displaystyle \\mathtt{\\text{L\\_discrete}}=31.6227766016838$"
      ],
      "text/plain": [
       "<IPython.core.display.Math object>"
      ]
     },
     "metadata": {},
     "output_type": "display_data"
    }
   ],
   "source": [
    "#### Problem 6 ####\n",
    "P,g,L,omega,x = symbols('P g L omega x')\n",
    "f_x = ((P*L)/(g)) * x * omega**2\n",
    "f_y = P\n",
    "N = Matrix([[1-x/L],[x/L]])\n",
    "F_axial = sp.integrate(f_x*N, (x,0,L))\n",
    "displayEquations('F_axial',F_axial)\n",
    "F_normal = sp.integrate(f_y*N, (x,0,L))\n",
    "displayEquations('F_normal',F_normal)\n",
    "L_discrete = np.sqrt(30**2 + 10**2)\n",
    "displayEquations('L_discrete',L_discrete)"
   ]
  },
  {
   "cell_type": "code",
   "execution_count": 5,
   "metadata": {},
   "outputs": [
    {
     "name": "stdout",
     "output_type": "stream",
     "text": [
      "-77356.58800395232\n"
     ]
    }
   ],
   "source": [
    "#### in class exercise ####\n",
    "delta_x = 12 - 0 \n",
    "delta_y = 12 - 0\n",
    "L = np.sqrt(delta_x**2 + delta_y**2)\n",
    "E = 10.5*10**6\n",
    "t = .25\n",
    "w = 1\n",
    "A = t*w\n",
    "I = 1/12 * w * t**3\n",
    "c = delta_x / L\n",
    "s = delta_y / L\n",
    "K_41 = -(c**2*E*A)/L - (12*s**2*E*I)/L**3\n",
    "print(K_41)"
   ]
  }
 ],
 "metadata": {
  "kernelspec": {
   "display_name": "Python 3",
   "language": "python",
   "name": "python3"
  },
  "language_info": {
   "codemirror_mode": {
    "name": "ipython",
    "version": 3
   },
   "file_extension": ".py",
   "mimetype": "text/x-python",
   "name": "python",
   "nbconvert_exporter": "python",
   "pygments_lexer": "ipython3",
   "version": "3.11.2"
  },
  "orig_nbformat": 4
 },
 "nbformat": 4,
 "nbformat_minor": 2
}
