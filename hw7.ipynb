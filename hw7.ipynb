{
 "cells": [
  {
   "cell_type": "code",
   "execution_count": 1,
   "metadata": {},
   "outputs": [],
   "source": [
    "### Benjamin Tollison Hw7 ###\n",
    "import sympy as sp\n",
    "from IPython.display import display, Math, Latex\n",
    "from sympy.solvers.solveset import linsolve\n",
    "from sympy import  lambdify, Matrix,sin,cos, sinh, cosh, exp, pi, symbols, integrate\n",
    "import numpy as np\n",
    "import matplotlib.pyplot as plt\n",
    "def displayEquations(LHS,RHS):\n",
    "    left = sp.latex(LHS)\n",
    "    right = sp.latex(RHS)\n",
    "    display(Math(left + '=' + right))\n",
    "    np.set_printoptions(suppress=True)"
   ]
  },
  {
   "cell_type": "code",
   "execution_count": 2,
   "metadata": {},
   "outputs": [
    {
     "data": {
      "text/latex": [
       "$\\displaystyle \\mathtt{\\text{0}}=0$"
      ],
      "text/plain": [
       "<IPython.core.display.Math object>"
      ]
     },
     "metadata": {},
     "output_type": "display_data"
    },
    {
     "data": {
      "text/latex": [
       "$\\displaystyle \\mathtt{\\text{0}}=0$"
      ],
      "text/plain": [
       "<IPython.core.display.Math object>"
      ]
     },
     "metadata": {},
     "output_type": "display_data"
    },
    {
     "data": {
      "text/latex": [
       "$\\displaystyle \\mathtt{\\text{0}}=0$"
      ],
      "text/plain": [
       "<IPython.core.display.Math object>"
      ]
     },
     "metadata": {},
     "output_type": "display_data"
    },
    {
     "data": {
      "text/latex": [
       "$\\displaystyle \\mathtt{\\text{0}}=0$"
      ],
      "text/plain": [
       "<IPython.core.display.Math object>"
      ]
     },
     "metadata": {},
     "output_type": "display_data"
    }
   ],
   "source": [
    "### Problem 3 ####\n",
    "x = symbols('x')\n",
    "def orthogonality_test(function_of_x):\n",
    "    return displayEquations('0',integrate(function_of_x, (x,0, 2* pi)))\n",
    "orthogonality_test(sin(x)**3)\n",
    "orthogonality_test(sin(x) - cos(x)**2*sin(x))\n",
    "orthogonality_test(sin(x))\n",
    "orthogonality_test(cos(x)**2*sin(x))"
   ]
  },
  {
   "cell_type": "code",
   "execution_count": 13,
   "metadata": {},
   "outputs": [
    {
     "name": "stdout",
     "output_type": "stream",
     "text": [
      "b)\n"
     ]
    },
    {
     "data": {
      "text/latex": [
       "$\\displaystyle \\mathtt{\\text{v\\_r}}=- \\frac{\\dot{Q}}{2 \\pi h r \\rho} + u_{\\infty} \\cos{\\left(\\theta \\right)}$"
      ],
      "text/plain": [
       "<IPython.core.display.Math object>"
      ]
     },
     "metadata": {},
     "output_type": "display_data"
    },
    {
     "data": {
      "text/latex": [
       "$\\displaystyle \\mathtt{\\text{v\\_theta}}=- u_{\\infty} \\sin{\\left(\\theta \\right)}$"
      ],
      "text/plain": [
       "<IPython.core.display.Math object>"
      ]
     },
     "metadata": {},
     "output_type": "display_data"
    },
    {
     "data": {
      "text/latex": [
       "$\\displaystyle \\mathtt{\\text{phi}}=- \\frac{\\dot{Q} \\log{\\left(r \\right)}}{2 \\pi h \\rho} + r u_{\\infty} \\cos{\\left(\\theta \\right)}$"
      ],
      "text/plain": [
       "<IPython.core.display.Math object>"
      ]
     },
     "metadata": {},
     "output_type": "display_data"
    },
    {
     "name": "stdout",
     "output_type": "stream",
     "text": [
      "c)\n"
     ]
    },
    {
     "data": {
      "text/latex": [
       "$\\displaystyle \\mathtt{\\text{r\\_sol}}=\\left\\{\\frac{\\dot{Q}}{2 \\pi h \\rho u_{\\infty} \\cos{\\left(2 n \\pi \\right)}}\\; \\middle|\\; n \\in \\mathbb{Z}\\right\\}$"
      ],
      "text/plain": [
       "<IPython.core.display.Math object>"
      ]
     },
     "metadata": {},
     "output_type": "display_data"
    },
    {
     "data": {
      "text/latex": [
       "$\\displaystyle \\mathtt{\\text{theta\\_sol}}=\\left\\{2 n \\pi\\; \\middle|\\; n \\in \\mathbb{Z}\\right\\}$"
      ],
      "text/plain": [
       "<IPython.core.display.Math object>"
      ]
     },
     "metadata": {},
     "output_type": "display_data"
    }
   ],
   "source": [
    "#### Problem 4 ####\n",
    "Q,rho,h,theta,r,u,x,y = symbols('\\\\dot{Q},rho,h,theta,r,u_\\\\infty,x,y')\n",
    "# a)\n",
    "Lambda = Q/(rho*h)\n",
    "print('b)')\n",
    "psi = u*r*sin(theta) - Lambda/(2*sp.pi) *theta\n",
    "v_r = 1/r * psi.diff(theta)\n",
    "displayEquations('v_r',v_r.simplify())\n",
    "v_theta = -psi.diff(r)\n",
    "displayEquations('v_theta',v_theta.simplify())\n",
    "phi = integrate(v_r,r) # + integrate(r*v_theta,theta)\n",
    "displayEquations('phi',phi.simplify())\n",
    "print('c)')\n",
    "dof = sp.nonlinsolve([v_r,v_theta],[r,theta])\n",
    "(r_sol,theta_sol) = next(iter(dof))\n",
    "displayEquations('r_sol',r_sol)\n",
    "displayEquations('theta_sol',theta_sol)"
   ]
  },
  {
   "cell_type": "code",
   "execution_count": 11,
   "metadata": {},
   "outputs": [
    {
     "data": {
      "text/latex": [
       "$\\displaystyle \\mathtt{\\text{psi\\_stag}}=0$"
      ],
      "text/plain": [
       "<IPython.core.display.Math object>"
      ]
     },
     "metadata": {},
     "output_type": "display_data"
    },
    {
     "data": {
      "text/latex": [
       "$\\displaystyle \\mathtt{\\text{u\\_vec}}=- \\frac{\\dot{Q}}{2 \\pi h \\rho x \\left(1 + \\frac{y^{2}}{x^{2}}\\right)} + u_{\\infty}$"
      ],
      "text/plain": [
       "<IPython.core.display.Math object>"
      ]
     },
     "metadata": {},
     "output_type": "display_data"
    },
    {
     "data": {
      "text/latex": [
       "$\\displaystyle \\mathtt{\\text{v\\_vec}}=- \\frac{\\dot{Q} y}{2 \\pi h \\rho x^{2} \\cdot \\left(1 + \\frac{y^{2}}{x^{2}}\\right)}$"
      ],
      "text/plain": [
       "<IPython.core.display.Math object>"
      ]
     },
     "metadata": {},
     "output_type": "display_data"
    },
    {
     "data": {
      "text/latex": [
       "$\\displaystyle \\mathtt{\\text{x}}=\\frac{\\dot{Q}}{2 \\pi h \\rho u_{\\infty}}$"
      ],
      "text/plain": [
       "<IPython.core.display.Math object>"
      ]
     },
     "metadata": {},
     "output_type": "display_data"
    },
    {
     "data": {
      "text/latex": [
       "$\\displaystyle \\mathtt{\\text{y}}=0$"
      ],
      "text/plain": [
       "<IPython.core.display.Math object>"
      ]
     },
     "metadata": {},
     "output_type": "display_data"
    }
   ],
   "source": [
    "# c with cartesian cooridnates\n",
    "psi = u*y - (Q/(2*pi*rho*h))*sp.atan(y/x)\n",
    "u_vec = psi.diff(y)\n",
    "v_vec = -psi.diff(x)\n",
    "dof = sp.nonlinsolve([u_vec, v_vec],[x,y])\n",
    "(x_sol,y_sol) = next(iter(dof))\n",
    "psi_stag = psi.subs({x:x_sol,y:y_sol})\n",
    "displayEquations('psi_stag',psi_stag)\n",
    "displayEquations('u_vec',u_vec)\n",
    "displayEquations('v_vec',v_vec)\n",
    "displayEquations('x',x_sol)\n",
    "displayEquations('y',y_sol)"
   ]
  }
 ],
 "metadata": {
  "kernelspec": {
   "display_name": "Python 3",
   "language": "python",
   "name": "python3"
  },
  "language_info": {
   "codemirror_mode": {
    "name": "ipython",
    "version": 3
   },
   "file_extension": ".py",
   "mimetype": "text/x-python",
   "name": "python",
   "nbconvert_exporter": "python",
   "pygments_lexer": "ipython3",
   "version": "3.11.2"
  },
  "orig_nbformat": 4,
  "vscode": {
   "interpreter": {
    "hash": "98f26e2dbefc15f9c7c4aac2af27595c9f0f9205c75ac8f856ece79a0df83888"
   }
  }
 },
 "nbformat": 4,
 "nbformat_minor": 2
}
